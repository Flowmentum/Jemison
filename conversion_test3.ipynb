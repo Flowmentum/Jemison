{
 "cells": [
  {
   "cell_type": "code",
   "execution_count": null,
   "id": "7ae6be30",
   "metadata": {},
   "outputs": [],
   "source": [
    "!jupyter nbconvert --to script config_template.ipynb"
   ]
  },
  {
   "cell_type": "code",
   "execution_count": 1,
   "id": "b8843a64",
   "metadata": {},
   "outputs": [
    {
     "ename": "NameError",
     "evalue": "name 'null' is not defined",
     "output_type": "error",
     "traceback": [
      "\u001b[0;31m---------------------------------------------------------------------------\u001b[0m",
      "\u001b[0;31mNameError\u001b[0m                                 Traceback (most recent call last)",
      "\u001b[0;32m/var/folders/tg/c6tcjwk13mj583lxrf25k3jm0000gn/T/ipykernel_48208/4241145473.py\u001b[0m in \u001b[0;36m<module>\u001b[0;34m\u001b[0m\n\u001b[1;32m     27\u001b[0m   {\n\u001b[1;32m     28\u001b[0m    \u001b[0;34m\"cell_type\"\u001b[0m\u001b[0;34m:\u001b[0m \u001b[0;34m\"code\"\u001b[0m\u001b[0;34m,\u001b[0m\u001b[0;34m\u001b[0m\u001b[0;34m\u001b[0m\u001b[0m\n\u001b[0;32m---> 29\u001b[0;31m    \u001b[0;34m\"execution_count\"\u001b[0m\u001b[0;34m:\u001b[0m \u001b[0mnull\u001b[0m\u001b[0;34m,\u001b[0m\u001b[0;34m\u001b[0m\u001b[0;34m\u001b[0m\u001b[0m\n\u001b[0m\u001b[1;32m     30\u001b[0m    \u001b[0;34m\"id\"\u001b[0m\u001b[0;34m:\u001b[0m \u001b[0;34m\"26fdfd4e\"\u001b[0m\u001b[0;34m,\u001b[0m\u001b[0;34m\u001b[0m\u001b[0;34m\u001b[0m\u001b[0m\n\u001b[1;32m     31\u001b[0m    \u001b[0;34m\"metadata\"\u001b[0m\u001b[0;34m:\u001b[0m \u001b[0;34m{\u001b[0m\u001b[0;34m}\u001b[0m\u001b[0;34m,\u001b[0m\u001b[0;34m\u001b[0m\u001b[0;34m\u001b[0m\u001b[0m\n",
      "\u001b[0;31mNameError\u001b[0m: name 'null' is not defined"
     ]
    }
   ],
   "source": [
    "!jupyter nbconvert --to script config_template.ipynb"
   ]
  },
  {
   "cell_type": "code",
   "execution_count": null,
   "id": "9d4315a3",
   "metadata": {},
   "outputs": [],
   "source": [
    "if input(\"Enter a day of the week. \") == 'Monday':\n",
    "    print('It\\'s Monday')\n",
    "else:\n",
    "    print('It\\'s not Monday')\n",
    "\n",
    "#1b. prompt the user for a day of the week, print out whether the day is a weekday or a weekend.\n",
    "\n",
    "day= str(input(\"Enter a day Sunday - Saturday: \"))\n",
    "\n",
    "if (day=='Sunday'):\n",
    "    print(day,\"is a weekend\")\n",
    "elif (day=='Monday'):\n",
    "    print(day,\"is a weekday\")\n",
    "elif (day=='Tuesday'):\n",
    "    print(day,\"is a weekday\")\n",
    "elif (day=='Wednesday'):\n",
    "    print(day,\"is a weekday\")\n",
    "elif (day=='Thursday'):\n",
    "    print(day,\"is a weekday\")\n",
    "elif (day=='Friday'):\n",
    "    print(day,\"is a weekday\")\n",
    "elif (day=='Saturday'):\n",
    "    print(day,\"is a weekend\")\n",
    "else:\n",
    "    print(\"Wrong input. Please enter one of the seven days of the week capitalized.\")"
   ]
  },
  {
   "cell_type": "code",
   "execution_count": null,
   "id": "8c84e79d",
   "metadata": {},
   "outputs": [],
   "source": [
    "#6. Create a list of dictionaries where each dictionary represents a book that you have read. Each dictionary in the list should have the keys title, author, and genre. \n",
    "# Loop through the list and print out information about each book.\n",
    "\n",
    "beginning_book = [\"Start\", 'Sally', 'mystery']\n",
    "middle_book = [\"Continue\", 'Billy', 'adventure']\n",
    "ending_book = [\"Finish\", 'Tommy', 'horror']\n",
    "\n",
    "beginning_book = {'title': \"Start\", 'author': 'Sally', 'genre': 'mystery'}\n",
    "middle_book = {'title': \"Continue\", 'author': 'Billy', 'genre': 'adventure'}\n",
    "ending_book = {'title': \"Finish\", 'author': 'Tommy', 'genre': 'horror'}\n",
    "\n",
    "books_read = [beginning_book, middle_book, ending_book]\n",
    "\n",
    "for book in books_read:\n",
    "    print(\"Title: \"+ book['title'])\n",
    "    print(\"Author: \"+ book['author'])\n",
    "    print(\"Genre: \"+book['genre'])\n",
    "\n",
    "\n",
    "#a. Prompt the user to enter a genre, then loop through your books list and print out the titles of all the books in that genre.\n",
    "\n",
    "user_genre = input(\"Enter a genre, \")\n",
    "\n",
    "for book in books_read:\n",
    "     if book['genre'] == user_genre:\n",
    "            print(\"Title: \"+ book['title'])\n",
    "            print(\"Author: \"+ book['author'])\n",
    "            print(\"Genre: \"+book['genre'])"
   ]
  }
 ],
 "metadata": {
  "kernelspec": {
   "display_name": "Python 3 (ipykernel)",
   "language": "python",
   "name": "python3"
  },
  "language_info": {
   "codemirror_mode": {
    "name": "ipython",
    "version": 3
   },
   "file_extension": ".py",
   "mimetype": "text/x-python",
   "name": "python",
   "nbconvert_exporter": "python",
   "pygments_lexer": "ipython3",
   "version": "3.9.7"
  }
 },
 "nbformat": 4,
 "nbformat_minor": 5
}
