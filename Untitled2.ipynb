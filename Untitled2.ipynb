{
 "cells": [
  {
   "cell_type": "code",
   "execution_count": 13,
   "id": "ea815989",
   "metadata": {},
   "outputs": [
    {
     "name": "stdout",
     "output_type": "stream",
     "text": [
      "True\n"
     ]
    },
    {
     "data": {
      "text/plain": [
       "False"
      ]
     },
     "execution_count": 13,
     "metadata": {},
     "output_type": "execute_result"
    }
   ],
   "source": [
    "#1. Define a function named is_two. \n",
    "# It should accept one input and return True if the passed input \n",
    "# is either the number or the string 2, False otherwise.\n",
    "\n",
    "def is_two(n):\n",
    "    return n == 2\n",
    "\n",
    "print(is_two(2))\n",
    "is_two(3)"
   ]
  },
  {
   "cell_type": "code",
   "execution_count": 34,
   "id": "5e8c28fc",
   "metadata": {},
   "outputs": [
    {
     "name": "stdout",
     "output_type": "stream",
     "text": [
      "True\n"
     ]
    },
    {
     "data": {
      "text/plain": [
       "False"
      ]
     },
     "execution_count": 34,
     "metadata": {},
     "output_type": "execute_result"
    }
   ],
   "source": [
    "# Define a function named is_vowel. It should return True \n",
    "# if the passed string is a vowel, False otherwise.\n",
    "    \n",
    "def is_vowel(char):\n",
    "    return char.lower() in 'aeiou'    \n",
    "\n",
    "print(is_vowel('e'))\n",
    "is_vowel('z')\n"
   ]
  },
  {
   "cell_type": "code",
   "execution_count": 39,
   "id": "ac8a6d6b",
   "metadata": {},
   "outputs": [
    {
     "name": "stdout",
     "output_type": "stream",
     "text": [
      "False\n"
     ]
    },
    {
     "data": {
      "text/plain": [
       "True"
      ]
     },
     "execution_count": 39,
     "metadata": {},
     "output_type": "execute_result"
    }
   ],
   "source": [
    "# Define a function named is_consonant. It should return True if the passed string is a consonant, \n",
    "# False otherwise. Use your is_vowel function to accomplish this.\n",
    "\n",
    "def is_consonant(char):\n",
    "    return char.lower() not in 'aeiou'    \n",
    "\n",
    "print(is_consonant('e'))\n",
    "is_consonant('z')\n"
   ]
  },
  {
   "cell_type": "code",
   "execution_count": null,
   "id": "872a51c3",
   "metadata": {},
   "outputs": [],
   "source": [
    "# Define a function that accepts a string that is a word. \n",
    "# The function should capitalize the first letter of the word if the word starts with a consonant.\n",
    "\n",
    "def capitilizer(word):\n",
    "    return upper()"
   ]
  },
  {
   "cell_type": "code",
   "execution_count": 40,
   "id": "f2a7d3ec",
   "metadata": {},
   "outputs": [],
   "source": [
    "def is_consonant(char):\n",
    "    return char.lower() not in 'aeiou'    \n",
    "\n",
    "print(is_consonant('e'))\n",
    "is_consonant('z')"
   ]
  },
  {
   "cell_type": "code",
   "execution_count": 51,
   "id": "25aebe94",
   "metadata": {},
   "outputs": [
    {
     "name": "stdout",
     "output_type": "stream",
     "text": [
      "E\n"
     ]
    },
    {
     "data": {
      "text/plain": [
       "'B'"
      ]
     },
     "execution_count": 51,
     "metadata": {},
     "output_type": "execute_result"
    }
   ],
   "source": [
    "def capitalizer(word):\n",
    "    first_char = word[0]\n",
    "    return first_char.upper()\n",
    "\n",
    "print(capitalizer('elise'))\n",
    "capitalizer('boba')"
   ]
  },
  {
   "cell_type": "code",
   "execution_count": 55,
   "id": "b7829121",
   "metadata": {},
   "outputs": [
    {
     "name": "stdout",
     "output_type": "stream",
     "text": [
      "Not a consonant.\n"
     ]
    },
    {
     "data": {
      "text/plain": [
       "'B'"
      ]
     },
     "execution_count": 55,
     "metadata": {},
     "output_type": "execute_result"
    }
   ],
   "source": [
    "def capitalizer(word):\n",
    "    first_char = word[0]\n",
    "    if is_consonant(first_char):\n",
    "        return first_char.upper()\n",
    "    else:\n",
    "        return 'Not a consonant.'\n",
    "\n",
    "print(capitalizer('elise'))\n",
    "capitalizer('boba')"
   ]
  },
  {
   "cell_type": "code",
   "execution_count": 63,
   "id": "821b0744",
   "metadata": {},
   "outputs": [
    {
     "name": "stdout",
     "output_type": "stream",
     "text": [
      "10.0% tip\n"
     ]
    }
   ],
   "source": [
    "# Define a function named calculate_tip. It should accept a tip percentage \n",
    "#(a number between 0 and 1) and the bill total, and return the amount to tip.\n",
    "\n",
    "def calculate_tip(percent, total):\n",
    "    tip = (percent * total)\n",
    "    return tip\n",
    "\n",
    "calculate_tip(.5, 12)\n",
    "print(str(calculate_tip(.1, 100)) + '% tip')\n",
    "    \n"
   ]
  },
  {
   "cell_type": "code",
   "execution_count": 80,
   "id": "9cde3856",
   "metadata": {},
   "outputs": [
    {
     "name": "stdout",
     "output_type": "stream",
     "text": [
      "$125.0\n"
     ]
    },
    {
     "data": {
      "text/plain": [
       "'$63.75'"
      ]
     },
     "execution_count": 80,
     "metadata": {},
     "output_type": "execute_result"
    }
   ],
   "source": [
    "# Define a function named apply_discount. It should accept a original price, and\n",
    "# a discount percentage, and return the price after the discount is applied.\n",
    "\n",
    "def apply_discount(price, disc):\n",
    "    disc_price = price * (disc + 1)\n",
    "    return '$' + str(round(disc_price, 2))\n",
    "\n",
    "print(apply_discount(100, .25))\n",
    "apply_discount(50, .275)\n"
   ]
  },
  {
   "cell_type": "code",
   "execution_count": 89,
   "id": "41eb0951",
   "metadata": {},
   "outputs": [
    {
     "ename": "SyntaxError",
     "evalue": "leading zeros in decimal integer literals are not permitted; use an 0o prefix for octal integers (2096721834.py, line 8)",
     "output_type": "error",
     "traceback": [
      "\u001b[0;36m  File \u001b[0;32m\"/var/folders/tg/c6tcjwk13mj583lxrf25k3jm0000gn/T/ipykernel_3520/2096721834.py\"\u001b[0;36m, line \u001b[0;32m8\u001b[0m\n\u001b[0;31m    handle_commas(1239,03)\u001b[0m\n\u001b[0m                        ^\u001b[0m\n\u001b[0;31mSyntaxError\u001b[0m\u001b[0;31m:\u001b[0m leading zeros in decimal integer literals are not permitted; use an 0o prefix for octal integers\n"
     ]
    }
   ],
   "source": [
    "# Define a function named handle_commas. It should accept a string that is a \n",
    "# number that contains commas in it as input, and return a number as output.\n",
    "\n",
    "def handle_commas(comma_number):\n",
    "    commaless = comma_number.isdigit(',', '')\n",
    "    return commaless\n",
    "\n",
    "handle_commas(1239,03)\n"
   ]
  },
  {
   "cell_type": "code",
   "execution_count": 91,
   "id": "845a2b5c",
   "metadata": {},
   "outputs": [
    {
     "ename": "NameError",
     "evalue": "name 'append' is not defined",
     "output_type": "error",
     "traceback": [
      "\u001b[0;31m---------------------------------------------------------------------------\u001b[0m",
      "\u001b[0;31mNameError\u001b[0m                                 Traceback (most recent call last)",
      "\u001b[0;32m/var/folders/tg/c6tcjwk13mj583lxrf25k3jm0000gn/T/ipykernel_3520/2730351675.py\u001b[0m in \u001b[0;36m<module>\u001b[0;34m\u001b[0m\n\u001b[0;32m----> 1\u001b[0;31m \u001b[0mhelp\u001b[0m\u001b[0;34m(\u001b[0m\u001b[0mappend\u001b[0m\u001b[0;34m)\u001b[0m\u001b[0;34m\u001b[0m\u001b[0;34m\u001b[0m\u001b[0m\n\u001b[0m",
      "\u001b[0;31mNameError\u001b[0m: name 'append' is not defined"
     ]
    }
   ],
   "source": [
    "help(append)"
   ]
  },
  {
   "cell_type": "code",
   "execution_count": 97,
   "id": "14e1edcf",
   "metadata": {},
   "outputs": [
    {
     "ename": "TypeError",
     "evalue": "'tuple' object is not callable",
     "output_type": "error",
     "traceback": [
      "\u001b[0;31m---------------------------------------------------------------------------\u001b[0m",
      "\u001b[0;31mTypeError\u001b[0m                                 Traceback (most recent call last)",
      "\u001b[0;32m/var/folders/tg/c6tcjwk13mj583lxrf25k3jm0000gn/T/ipykernel_3520/3842973715.py\u001b[0m in \u001b[0;36m<module>\u001b[0;34m\u001b[0m\n\u001b[1;32m      8\u001b[0m     \u001b[0;32mreturn\u001b[0m \u001b[0mcommaless\u001b[0m\u001b[0;34m\u001b[0m\u001b[0;34m\u001b[0m\u001b[0m\n\u001b[1;32m      9\u001b[0m \u001b[0;34m\u001b[0m\u001b[0m\n\u001b[0;32m---> 10\u001b[0;31m \u001b[0mhandle_commas\u001b[0m\u001b[0;34m(\u001b[0m\u001b[0;36m1239\u001b[0m\u001b[0;34m,\u001b[0m\u001b[0;36m3\u001b[0m\u001b[0;34m)\u001b[0m\u001b[0;34m\u001b[0m\u001b[0;34m\u001b[0m\u001b[0m\n\u001b[0m",
      "\u001b[0;32m/var/folders/tg/c6tcjwk13mj583lxrf25k3jm0000gn/T/ipykernel_3520/3842973715.py\u001b[0m in \u001b[0;36mhandle_commas\u001b[0;34m(*comma_number)\u001b[0m\n\u001b[1;32m      2\u001b[0m     \u001b[0mcommaless\u001b[0m \u001b[0;34m=\u001b[0m \u001b[0;34m[\u001b[0m\u001b[0;34m]\u001b[0m\u001b[0;34m\u001b[0m\u001b[0;34m\u001b[0m\u001b[0m\n\u001b[1;32m      3\u001b[0m     \u001b[0;32mwhile\u001b[0m \u001b[0;32mTrue\u001b[0m\u001b[0;34m:\u001b[0m\u001b[0;34m\u001b[0m\u001b[0;34m\u001b[0m\u001b[0m\n\u001b[0;32m----> 4\u001b[0;31m         \u001b[0minp\u001b[0m \u001b[0;34m=\u001b[0m \u001b[0mcomma_number\u001b[0m\u001b[0;34m(\u001b[0m\u001b[0;34m)\u001b[0m\u001b[0;34m\u001b[0m\u001b[0;34m\u001b[0m\u001b[0m\n\u001b[0m\u001b[1;32m      5\u001b[0m         \u001b[0;32mif\u001b[0m \u001b[0minp\u001b[0m \u001b[0;34m==\u001b[0m \u001b[0;34m\"\"\u001b[0m\u001b[0;34m:\u001b[0m\u001b[0;34m\u001b[0m\u001b[0;34m\u001b[0m\u001b[0m\n\u001b[1;32m      6\u001b[0m             \u001b[0;32mbreak\u001b[0m\u001b[0;34m\u001b[0m\u001b[0;34m\u001b[0m\u001b[0m\n",
      "\u001b[0;31mTypeError\u001b[0m: 'tuple' object is not callable"
     ]
    }
   ],
   "source": [
    "def handle_commas(*comma_number):\n",
    "    commaless = []\n",
    "    while True:\n",
    "        inp = comma_number()\n",
    "        if inp == \"\":\n",
    "            break\n",
    "    commaless = commaless + str(comma_number)\n",
    "    return commaless\n",
    "\n",
    "handle_commas(1239,3)"
   ]
  },
  {
   "cell_type": "code",
   "execution_count": 100,
   "id": "54e813a5",
   "metadata": {},
   "outputs": [
    {
     "ename": "TypeError",
     "evalue": "list indices must be integers or slices, not tuple",
     "output_type": "error",
     "traceback": [
      "\u001b[0;31m---------------------------------------------------------------------------\u001b[0m",
      "\u001b[0;31mTypeError\u001b[0m                                 Traceback (most recent call last)",
      "\u001b[0;32m/var/folders/tg/c6tcjwk13mj583lxrf25k3jm0000gn/T/ipykernel_3520/3731205663.py\u001b[0m in \u001b[0;36m<module>\u001b[0;34m\u001b[0m\n\u001b[1;32m      7\u001b[0m     \u001b[0;32mreturn\u001b[0m \u001b[0mcommaless\u001b[0m\u001b[0;34m\u001b[0m\u001b[0;34m\u001b[0m\u001b[0m\n\u001b[1;32m      8\u001b[0m \u001b[0;34m\u001b[0m\u001b[0m\n\u001b[0;32m----> 9\u001b[0;31m \u001b[0mhandle_commas\u001b[0m\u001b[0;34m(\u001b[0m\u001b[0;36m123\u001b[0m\u001b[0;34m,\u001b[0m\u001b[0;36m678\u001b[0m\u001b[0;34m,\u001b[0m\u001b[0;36m980\u001b[0m\u001b[0;34m)\u001b[0m\u001b[0;34m\u001b[0m\u001b[0;34m\u001b[0m\u001b[0m\n\u001b[0m\u001b[1;32m     10\u001b[0m \u001b[0mprint\u001b[0m\u001b[0;34m(\u001b[0m\u001b[0mhandle_commas\u001b[0m\u001b[0;34m(\u001b[0m\u001b[0;36m123\u001b[0m\u001b[0;34m,\u001b[0m\u001b[0;36m456\u001b[0m\u001b[0;34m,\u001b[0m\u001b[0;36m789\u001b[0m\u001b[0;34m)\u001b[0m\u001b[0;34m)\u001b[0m\u001b[0;34m\u001b[0m\u001b[0;34m\u001b[0m\u001b[0m\n",
      "\u001b[0;32m/var/folders/tg/c6tcjwk13mj583lxrf25k3jm0000gn/T/ipykernel_3520/3731205663.py\u001b[0m in \u001b[0;36mhandle_commas\u001b[0;34m(*comma_number)\u001b[0m\n\u001b[1;32m      4\u001b[0m         \u001b[0;32mif\u001b[0m \u001b[0mcomma_number\u001b[0m \u001b[0;34m==\u001b[0m \u001b[0;34m\"\"\u001b[0m\u001b[0;34m:\u001b[0m\u001b[0;34m\u001b[0m\u001b[0;34m\u001b[0m\u001b[0m\n\u001b[1;32m      5\u001b[0m             \u001b[0;32mbreak\u001b[0m\u001b[0;34m\u001b[0m\u001b[0;34m\u001b[0m\u001b[0m\n\u001b[0;32m----> 6\u001b[0;31m         \u001b[0mcommaless\u001b[0m \u001b[0;34m+=\u001b[0m \u001b[0mcommaless\u001b[0m\u001b[0;34m[\u001b[0m\u001b[0mcomma_number\u001b[0m\u001b[0;34m]\u001b[0m\u001b[0;34m\u001b[0m\u001b[0;34m\u001b[0m\u001b[0m\n\u001b[0m\u001b[1;32m      7\u001b[0m     \u001b[0;32mreturn\u001b[0m \u001b[0mcommaless\u001b[0m\u001b[0;34m\u001b[0m\u001b[0;34m\u001b[0m\u001b[0m\n\u001b[1;32m      8\u001b[0m \u001b[0;34m\u001b[0m\u001b[0m\n",
      "\u001b[0;31mTypeError\u001b[0m: list indices must be integers or slices, not tuple"
     ]
    }
   ],
   "source": [
    "def handle_commas(*comma_number):\n",
    "    commaless = []\n",
    "    while True:\n",
    "        if comma_number == \"\":\n",
    "            break\n",
    "        commaless += commaless[comma_number]\n",
    "    return commaless\n",
    "    \n",
    "handle_commas(123,678,980)\n",
    "print(handle_commas(123,456,789))\n",
    "\n",
    "inputs = []\n",
    "while True:\n",
    "    inp = input()\n",
    "    if inp == \"\":\n",
    "        break\n",
    "    inputs.append(inp)"
   ]
  },
  {
   "cell_type": "code",
   "execution_count": 107,
   "id": "59b65ad6",
   "metadata": {},
   "outputs": [
    {
     "ename": "SyntaxError",
     "evalue": "invalid syntax (1957373920.py, line 5)",
     "output_type": "error",
     "traceback": [
      "\u001b[0;36m  File \u001b[0;32m\"/var/folders/tg/c6tcjwk13mj583lxrf25k3jm0000gn/T/ipykernel_3520/1957373920.py\"\u001b[0;36m, line \u001b[0;32m5\u001b[0m\n\u001b[0;31m    handle_commas(123,456,789)\u001b[0m\n\u001b[0m    ^\u001b[0m\n\u001b[0;31mSyntaxError\u001b[0m\u001b[0;31m:\u001b[0m invalid syntax\n"
     ]
    }
   ],
   "source": [
    "def handle_commas(*comma_number):\n",
    "    commaless = []\n",
    "    return commaless.join(str(comma_number)\n",
    "\n",
    "handle_commas(123,456,789)"
   ]
  },
  {
   "cell_type": "code",
   "execution_count": 112,
   "id": "ddaa3c20",
   "metadata": {},
   "outputs": [
    {
     "ename": "AttributeError",
     "evalue": "'list' object has no attribute 'join'",
     "output_type": "error",
     "traceback": [
      "\u001b[0;31m---------------------------------------------------------------------------\u001b[0m",
      "\u001b[0;31mAttributeError\u001b[0m                            Traceback (most recent call last)",
      "\u001b[0;32m/var/folders/tg/c6tcjwk13mj583lxrf25k3jm0000gn/T/ipykernel_3520/930274192.py\u001b[0m in \u001b[0;36m<module>\u001b[0;34m\u001b[0m\n\u001b[1;32m      3\u001b[0m     \u001b[0;32mreturn\u001b[0m \u001b[0mcommaless\u001b[0m\u001b[0;34m.\u001b[0m\u001b[0mjoin\u001b[0m\u001b[0;34m(\u001b[0m\u001b[0mstr\u001b[0m\u001b[0;34m[\u001b[0m\u001b[0mcomma_number\u001b[0m\u001b[0;34m]\u001b[0m\u001b[0;34m)\u001b[0m\u001b[0;34m\u001b[0m\u001b[0;34m\u001b[0m\u001b[0m\n\u001b[1;32m      4\u001b[0m \u001b[0;34m\u001b[0m\u001b[0m\n\u001b[0;32m----> 5\u001b[0;31m \u001b[0mprint\u001b[0m\u001b[0;34m(\u001b[0m\u001b[0mhandle_commas\u001b[0m\u001b[0;34m(\u001b[0m\u001b[0;36m123\u001b[0m\u001b[0;34m,\u001b[0m\u001b[0;36m456\u001b[0m\u001b[0;34m,\u001b[0m\u001b[0;36m789\u001b[0m\u001b[0;34m)\u001b[0m\u001b[0;34m)\u001b[0m\u001b[0;34m\u001b[0m\u001b[0;34m\u001b[0m\u001b[0m\n\u001b[0m",
      "\u001b[0;32m/var/folders/tg/c6tcjwk13mj583lxrf25k3jm0000gn/T/ipykernel_3520/930274192.py\u001b[0m in \u001b[0;36mhandle_commas\u001b[0;34m(*comma_number)\u001b[0m\n\u001b[1;32m      1\u001b[0m \u001b[0;32mdef\u001b[0m \u001b[0mhandle_commas\u001b[0m\u001b[0;34m(\u001b[0m\u001b[0;34m*\u001b[0m\u001b[0mcomma_number\u001b[0m\u001b[0;34m)\u001b[0m\u001b[0;34m:\u001b[0m\u001b[0;34m\u001b[0m\u001b[0;34m\u001b[0m\u001b[0m\n\u001b[1;32m      2\u001b[0m     \u001b[0mcommaless\u001b[0m \u001b[0;34m=\u001b[0m \u001b[0;34m[\u001b[0m\u001b[0;34m]\u001b[0m\u001b[0;34m\u001b[0m\u001b[0;34m\u001b[0m\u001b[0m\n\u001b[0;32m----> 3\u001b[0;31m     \u001b[0;32mreturn\u001b[0m \u001b[0mcommaless\u001b[0m\u001b[0;34m.\u001b[0m\u001b[0mjoin\u001b[0m\u001b[0;34m(\u001b[0m\u001b[0mstr\u001b[0m\u001b[0;34m[\u001b[0m\u001b[0mcomma_number\u001b[0m\u001b[0;34m]\u001b[0m\u001b[0;34m)\u001b[0m\u001b[0;34m\u001b[0m\u001b[0;34m\u001b[0m\u001b[0m\n\u001b[0m\u001b[1;32m      4\u001b[0m \u001b[0;34m\u001b[0m\u001b[0m\n\u001b[1;32m      5\u001b[0m \u001b[0mprint\u001b[0m\u001b[0;34m(\u001b[0m\u001b[0mhandle_commas\u001b[0m\u001b[0;34m(\u001b[0m\u001b[0;36m123\u001b[0m\u001b[0;34m,\u001b[0m\u001b[0;36m456\u001b[0m\u001b[0;34m,\u001b[0m\u001b[0;36m789\u001b[0m\u001b[0;34m)\u001b[0m\u001b[0;34m)\u001b[0m\u001b[0;34m\u001b[0m\u001b[0;34m\u001b[0m\u001b[0m\n",
      "\u001b[0;31mAttributeError\u001b[0m: 'list' object has no attribute 'join'"
     ]
    }
   ],
   "source": [
    "def handle_commas(*comma_number):\n",
    "    commaless = []\n",
    "    return commaless.join(str(comma_number))\n",
    "\n",
    "print(handle_commas(123,456,789))"
   ]
  },
  {
   "cell_type": "code",
   "execution_count": 120,
   "id": "14d8db37",
   "metadata": {},
   "outputs": [
    {
     "ename": "AttributeError",
     "evalue": "'tuple' object has no attribute 'isdigit'",
     "output_type": "error",
     "traceback": [
      "\u001b[0;31m---------------------------------------------------------------------------\u001b[0m",
      "\u001b[0;31mAttributeError\u001b[0m                            Traceback (most recent call last)",
      "\u001b[0;32m/var/folders/tg/c6tcjwk13mj583lxrf25k3jm0000gn/T/ipykernel_3520/2297011427.py\u001b[0m in \u001b[0;36m<module>\u001b[0;34m\u001b[0m\n\u001b[1;32m      3\u001b[0m     \u001b[0;32mreturn\u001b[0m \u001b[0mcommaless\u001b[0m\u001b[0;34m\u001b[0m\u001b[0;34m\u001b[0m\u001b[0m\n\u001b[1;32m      4\u001b[0m \u001b[0;34m\u001b[0m\u001b[0m\n\u001b[0;32m----> 5\u001b[0;31m \u001b[0mhandle_commas\u001b[0m\u001b[0;34m(\u001b[0m\u001b[0;36m123\u001b[0m\u001b[0;34m)\u001b[0m\u001b[0;34m\u001b[0m\u001b[0;34m\u001b[0m\u001b[0m\n\u001b[0m",
      "\u001b[0;32m/var/folders/tg/c6tcjwk13mj583lxrf25k3jm0000gn/T/ipykernel_3520/2297011427.py\u001b[0m in \u001b[0;36mhandle_commas\u001b[0;34m(*comma_number)\u001b[0m\n\u001b[1;32m      1\u001b[0m \u001b[0;32mdef\u001b[0m \u001b[0mhandle_commas\u001b[0m\u001b[0;34m(\u001b[0m\u001b[0;34m*\u001b[0m\u001b[0mcomma_number\u001b[0m\u001b[0;34m)\u001b[0m\u001b[0;34m:\u001b[0m\u001b[0;34m\u001b[0m\u001b[0;34m\u001b[0m\u001b[0m\n\u001b[0;32m----> 2\u001b[0;31m     \u001b[0mcommaless\u001b[0m \u001b[0;34m=\u001b[0m \u001b[0mcomma_number\u001b[0m\u001b[0;34m.\u001b[0m\u001b[0misdigit\u001b[0m\u001b[0;34m(\u001b[0m\u001b[0;34m)\u001b[0m\u001b[0;34m\u001b[0m\u001b[0;34m\u001b[0m\u001b[0m\n\u001b[0m\u001b[1;32m      3\u001b[0m     \u001b[0;32mreturn\u001b[0m \u001b[0mcommaless\u001b[0m\u001b[0;34m\u001b[0m\u001b[0;34m\u001b[0m\u001b[0m\n\u001b[1;32m      4\u001b[0m \u001b[0;34m\u001b[0m\u001b[0m\n\u001b[1;32m      5\u001b[0m \u001b[0mhandle_commas\u001b[0m\u001b[0;34m(\u001b[0m\u001b[0;36m123\u001b[0m\u001b[0;34m)\u001b[0m\u001b[0;34m\u001b[0m\u001b[0;34m\u001b[0m\u001b[0m\n",
      "\u001b[0;31mAttributeError\u001b[0m: 'tuple' object has no attribute 'isdigit'"
     ]
    }
   ],
   "source": [
    "def handle_commas(*comma_number):\n",
    "    commaless = comma_number.isdigit()\n",
    "    return commaless\n",
    "\n",
    "handle_commas(123)\n"
   ]
  },
  {
   "cell_type": "markdown",
   "id": "6ff97a2e",
   "metadata": {},
   "source": []
  },
  {
   "cell_type": "code",
   "execution_count": 127,
   "id": "822b71ad",
   "metadata": {},
   "outputs": [
    {
     "name": "stdout",
     "output_type": "stream",
     "text": [
      "[3, 9, 11]\n",
      "<class 'list'>\n",
      "[3, 9, 11]\n",
      "<class 'str'>\n"
     ]
    }
   ],
   "source": [
    "comma_number = [3,9,11]\n",
    "print(comma_number)\n",
    "print(type(comma_number))\n",
    "comma_list = str(comma_number)\n",
    "print(comma_list)\n",
    "comma_list.isdigit()\n",
    "print(type(comma_list))"
   ]
  },
  {
   "cell_type": "code",
   "execution_count": null,
   "id": "823fbcc2",
   "metadata": {},
   "outputs": [],
   "source": [
    "def handle_commas(*comma_number):\n",
    "    commaless = []\n",
    "    return commaless.join(str(comma_number))\n"
   ]
  },
  {
   "cell_type": "code",
   "execution_count": 131,
   "id": "f7624636",
   "metadata": {},
   "outputs": [],
   "source": [
    "# Define a function named remove_vowels that accepts a string and returns a \n",
    "# string with all the vowels removed.\n",
    "\n",
    "def remove_vowels(string):\n",
    "    newstr = string\n",
    "    vowels = ('a', 'e', 'i', 'o', 'u')\n",
    "    for letter in string.lower():\n",
    "        if letter in vowels:\n",
    "            newstr = newstr.replace(letter,\"\")\n",
    "            \n",
    "remove_vowels('howdy do')"
   ]
  },
  {
   "cell_type": "code",
   "execution_count": null,
   "id": "b63ed9c2",
   "metadata": {},
   "outputs": [],
   "source": []
  }
 ],
 "metadata": {
  "kernelspec": {
   "display_name": "Python 3 (ipykernel)",
   "language": "python",
   "name": "python3"
  },
  "language_info": {
   "codemirror_mode": {
    "name": "ipython",
    "version": 3
   },
   "file_extension": ".py",
   "mimetype": "text/x-python",
   "name": "python",
   "nbconvert_exporter": "python",
   "pygments_lexer": "ipython3",
   "version": "3.9.7"
  }
 },
 "nbformat": 4,
 "nbformat_minor": 5
}
