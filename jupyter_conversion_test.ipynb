{
 "cells": [
  {
   "cell_type": "code",
   "execution_count": 7,
   "id": "24d8e6b8",
   "metadata": {},
   "outputs": [
    {
     "name": "stdout",
     "output_type": "stream",
     "text": [
      "[3, 5, 1]\n",
      "27\n"
     ]
    }
   ],
   "source": [
    "little_mermaid = 3\n",
    "brother_bear = 5\n",
    "hercules = 1\n",
    "\n",
    "movies = [little_mermaid, brother_bear, hercules]\n",
    "print(movies)\n",
    "price = 3\n",
    "rentals = 0\n",
    "\n",
    "for days in movies:\n",
    "   rentals += days * price\n",
    "print(rentals)"
   ]
  },
  {
   "cell_type": "code",
   "execution_count": 12,
   "id": "85e4a247",
   "metadata": {},
   "outputs": [
    {
     "name": "stdout",
     "output_type": "stream",
     "text": [
      "22600\n"
     ]
    }
   ],
   "source": [
    "google = 400\n",
    "amazon = 380\n",
    "facebook = 350\n",
    "hourly_rate = [google, amazon, facebook]\n",
    "hours_worked = [6, 4, 10]\n",
    "weeks_pay = 0\n",
    "\n",
    "for hours in hours_worked:\n",
    "    for rate in hourly_rate:\n",
    "        weeks_pay += rate * hours\n",
    "print(weeks_pay)"
   ]
  },
  {
   "cell_type": "code",
   "execution_count": 52,
   "id": "20242c5e",
   "metadata": {},
   "outputs": [],
   "source": [
    "google = 400\n",
    "amazon = 380\n",
    "facebook = 350\n",
    "hourly_rate = [google, amazon, facebook]\n",
    "hours_worked = [6, 4, 10]\n",
    "weeks_pay = []\n",
    "\n",
    "weeks_pay = hourly_rate[1] * hours_worked[1]\n"
   ]
  },
  {
   "cell_type": "code",
   "execution_count": 27,
   "id": "4b41bf83",
   "metadata": {},
   "outputs": [
    {
     "data": {
      "text/plain": [
       "True"
      ]
     },
     "execution_count": 27,
     "metadata": {},
     "output_type": "execute_result"
    }
   ],
   "source": [
    "student_enrolled = True\n",
    "full_class = False\n",
    "class_schedule = True\n",
    "current_schedule = False\n",
    "student_enrolled != full_class and (class_schedule != current_schedule)\n"
   ]
  },
  {
   "cell_type": "code",
   "execution_count": 59,
   "id": "eedc58a7",
   "metadata": {},
   "outputs": [
    {
     "name": "stdout",
     "output_type": "stream",
     "text": [
      "7420\n"
     ]
    }
   ],
   "source": [
    "google = 400\n",
    "amazon = 380\n",
    "facebook = 350\n",
    "hourly_rate = [google, amazon, facebook]\n",
    "hours_worked = [6, 4, 10]\n",
    "weeks_pay = []\n",
    "\n",
    "weeks_pay = hourly_rate[0] * hours_worked[0] + hourly_rate[1] * hours_worked[1] + hours_worked[2] * hourly_rate[2]\n",
    "print(weeks_pay)"
   ]
  },
  {
   "cell_type": "code",
   "execution_count": 69,
   "id": "ebc3c992",
   "metadata": {},
   "outputs": [
    {
     "name": "stdout",
     "output_type": "stream",
     "text": [
      "True\n"
     ]
    }
   ],
   "source": [
    "password_at_least_5_char = True\n",
    "username_more_than_20_char = False\n",
    "password_is_username = False\n",
    "\n",
    "proper_username_and_password = password_at_least_5_char and not username_more_than_20_char and not password_is_username\n",
    "print(proper_username_and_password)\n"
   ]
  },
  {
   "cell_type": "code",
   "execution_count": 80,
   "id": "78d0a027",
   "metadata": {},
   "outputs": [
    {
     "name": "stdout",
     "output_type": "stream",
     "text": [
      "[600, 1000]\n"
     ]
    }
   ],
   "source": [
    "hours_worked = [30, 50]\n",
    "hourly_wages = 20\n",
    "weekly_wages = [h * hourly_wages for h in hours_worked]\n",
    "print(weekly_wages)"
   ]
  },
  {
   "cell_type": "code",
   "execution_count": 82,
   "id": "04006937",
   "metadata": {},
   "outputs": [
    {
     "name": "stdout",
     "output_type": "stream",
     "text": [
      "[900.0, 1500.0]\n"
     ]
    }
   ],
   "source": [
    "hours_worked = [30, 50]\n",
    "hourly_wages = 20\n",
    "weekly_wages = [h * hourly_wages for h in hours_worked]\n",
    "print(weekly_wages)\n",
    "\n",
    "for h in hours_worked:\n",
    "    if h > 40:\n",
    "        weekly_wages = [h * hourly_wages *1.5 for h in hours_worked]\n",
    "    else:\n",
    "        weekly_wages = [h * hourly_wages for h in hours_worked]\n",
    "print(weekly_wages)"
   ]
  },
  {
   "cell_type": "code",
   "execution_count": 93,
   "id": "f4cf85f3",
   "metadata": {},
   "outputs": [
    {
     "name": "stdout",
     "output_type": "stream",
     "text": [
      "5\n",
      "6\n",
      "7\n",
      "8\n",
      "9\n",
      "10\n",
      "11\n",
      "12\n",
      "13\n",
      "14\n",
      "15\n"
     ]
    }
   ],
   "source": [
    "i = 5\n",
    "\n",
    "while i <= 15:\n",
    "    print(i)\n",
    "    i += 1"
   ]
  },
  {
   "cell_type": "code",
   "execution_count": 96,
   "id": "06fe15d1",
   "metadata": {},
   "outputs": [
    {
     "name": "stdout",
     "output_type": "stream",
     "text": [
      "0\n",
      "2\n",
      "4\n",
      "6\n",
      "8\n",
      "10\n",
      "12\n",
      "14\n",
      "16\n",
      "18\n",
      "20\n",
      "22\n",
      "24\n",
      "26\n",
      "28\n",
      "30\n",
      "32\n",
      "34\n",
      "36\n",
      "38\n",
      "40\n",
      "42\n",
      "44\n",
      "46\n",
      "48\n",
      "50\n",
      "52\n",
      "54\n",
      "56\n",
      "58\n",
      "60\n",
      "62\n",
      "64\n",
      "66\n",
      "68\n",
      "70\n",
      "72\n",
      "74\n",
      "76\n",
      "78\n",
      "80\n",
      "82\n",
      "84\n",
      "86\n",
      "88\n",
      "90\n",
      "92\n",
      "94\n",
      "96\n",
      "98\n",
      "100\n"
     ]
    }
   ],
   "source": [
    "n = 0\n",
    "\n",
    "while n <= 100:\n",
    "    print(n)\n",
    "    n += 2"
   ]
  },
  {
   "cell_type": "code",
   "execution_count": 97,
   "id": "be558235",
   "metadata": {},
   "outputs": [
    {
     "name": "stdout",
     "output_type": "stream",
     "text": [
      "100\n",
      "95\n",
      "90\n",
      "85\n",
      "80\n",
      "75\n",
      "70\n",
      "65\n",
      "60\n",
      "55\n",
      "50\n",
      "45\n",
      "40\n",
      "35\n",
      "30\n",
      "25\n",
      "20\n",
      "15\n",
      "10\n",
      "5\n",
      "0\n",
      "-5\n",
      "-10\n"
     ]
    }
   ],
   "source": [
    "n = 100\n",
    "\n",
    "while n >= -10:\n",
    "    print(n)\n",
    "    n += -5"
   ]
  },
  {
   "cell_type": "code",
   "execution_count": 101,
   "id": "e4813a77",
   "metadata": {},
   "outputs": [
    {
     "name": "stdout",
     "output_type": "stream",
     "text": [
      "2\n",
      "4\n",
      "16\n",
      "256\n",
      "65536\n"
     ]
    }
   ],
   "source": [
    "n = 2\n",
    "\n",
    "while n < 1000000:\n",
    "    print(n)\n",
    "    n = n * n"
   ]
  },
  {
   "cell_type": "code",
   "execution_count": 102,
   "id": "390662ac",
   "metadata": {},
   "outputs": [
    {
     "name": "stdout",
     "output_type": "stream",
     "text": [
      "100\n",
      "95\n",
      "90\n",
      "85\n",
      "80\n",
      "75\n",
      "70\n",
      "65\n",
      "60\n",
      "55\n",
      "50\n",
      "45\n",
      "40\n",
      "35\n",
      "30\n",
      "25\n",
      "20\n",
      "15\n",
      "10\n",
      "5\n"
     ]
    }
   ],
   "source": [
    "n = 100\n",
    "\n",
    "while n >= 5:\n",
    "    print(n)\n",
    "    n += -5"
   ]
  },
  {
   "cell_type": "code",
   "execution_count": 126,
   "id": "d4573a2b",
   "metadata": {},
   "outputs": [
    {
     "name": "stdout",
     "output_type": "stream",
     "text": [
      "Enter a number. 2\n",
      "2 x 1 = 2\n",
      "2 x 2 = 4\n",
      "2 x 3 = 6\n",
      "2 x 4 = 8\n",
      "2 x 5 = 10\n",
      "2 x 6 = 12\n",
      "2 x 7 = 14\n",
      "2 x 8 = 16\n",
      "2 x 9 = 18\n",
      "2 x 10 = 20\n"
     ]
    }
   ],
   "source": [
    "number = int(input(\"Enter a number. \"))\n",
    "\n",
    "for n in range(1, 11):\n",
    "    print(f'{number} x {n} = {n * number}')\n",
    "    \n"
   ]
  },
  {
   "cell_type": "code",
   "execution_count": 144,
   "id": "6d1960b0",
   "metadata": {},
   "outputs": [
    {
     "name": "stdout",
     "output_type": "stream",
     "text": [
      "1\n",
      "20\n",
      "300\n",
      "4000\n",
      "50000\n",
      "600000\n",
      "7000000\n",
      "80000000\n",
      "900000000\n"
     ]
    }
   ],
   "source": [
    "for n in range(1, 10):\n",
    "    print(f'{n * (10**(n-1))}')"
   ]
  },
  {
   "cell_type": "code",
   "execution_count": null,
   "id": "7565aaa7",
   "metadata": {},
   "outputs": [],
   "source": [
    "number = input(\"Enter an odd number between 1 and 50, \")\n",
    "\n",
    "d = number.isdigit()\n",
    "print(d)\n",
    "while d =:\n",
    "    input(\"Try again\")\n",
    "\n",
    "for n in range(1, 51):\n",
    "    if n % 2 == 0:\n",
    "        continue\n",
    "    print(f'Here is an odd number: {n}')"
   ]
  },
  {
   "cell_type": "code",
   "execution_count": 155,
   "id": "7a54704a",
   "metadata": {},
   "outputs": [
    {
     "name": "stdout",
     "output_type": "stream",
     "text": [
      "Enter an odd number between 1 and 50, 13\n",
      "True\n"
     ]
    }
   ],
   "source": []
  },
  {
   "cell_type": "code",
   "execution_count": 163,
   "id": "0b485532",
   "metadata": {},
   "outputs": [
    {
     "name": "stdout",
     "output_type": "stream",
     "text": [
      "1\n",
      "2\n",
      "3\n",
      "4\n",
      "5\n",
      "6\n",
      "7\n",
      "8\n",
      "9\n",
      "10\n",
      "11\n",
      "12\n",
      "13\n",
      "14\n",
      "15\n",
      "16\n",
      "17\n",
      "18\n",
      "19\n",
      "20\n",
      "21\n",
      "22\n",
      "23\n",
      "24\n",
      "25\n",
      "26\n",
      "27\n",
      "28\n",
      "29\n",
      "30\n",
      "31\n",
      "32\n",
      "33\n",
      "34\n",
      "35\n",
      "36\n",
      "37\n",
      "38\n",
      "39\n",
      "40\n",
      "41\n",
      "42\n",
      "43\n",
      "44\n",
      "45\n",
      "46\n",
      "47\n",
      "48\n",
      "49\n",
      "50\n",
      "51\n",
      "52\n",
      "53\n",
      "54\n",
      "55\n",
      "56\n",
      "57\n",
      "58\n",
      "59\n",
      "60\n",
      "61\n",
      "62\n",
      "63\n",
      "64\n",
      "65\n",
      "66\n",
      "67\n",
      "68\n",
      "69\n",
      "70\n",
      "71\n",
      "72\n",
      "73\n",
      "74\n",
      "75\n",
      "76\n",
      "77\n",
      "78\n",
      "79\n",
      "80\n",
      "81\n",
      "82\n",
      "83\n",
      "84\n",
      "85\n",
      "86\n",
      "87\n",
      "88\n",
      "89\n",
      "90\n",
      "91\n",
      "92\n",
      "93\n",
      "94\n",
      "95\n",
      "96\n",
      "97\n",
      "98\n",
      "99\n",
      "100\n",
      "1\n"
     ]
    }
   ],
   "source": [
    "for n in range(1, 101):\n",
    "    print(n)\n",
    "    n += 1\n"
   ]
  },
  {
   "cell_type": "code",
   "execution_count": 174,
   "id": "d9d2ae15",
   "metadata": {},
   "outputs": [
    {
     "name": "stdout",
     "output_type": "stream",
     "text": [
      "FizzBuzz\n",
      "FizzBuzz\n",
      "FizzBuzz\n",
      "FizzBuzz\n",
      "FizzBuzz\n",
      "FizzBuzz\n"
     ]
    }
   ],
   "source": [
    "for n in range(1, 101):\n",
    "    if n % (3 * 5) == 0:\n",
    "        print(\"FizzBuzz\")"
   ]
  },
  {
   "cell_type": "code",
   "execution_count": 194,
   "id": "69257f3d",
   "metadata": {},
   "outputs": [
    {
     "ename": "SyntaxError",
     "evalue": "invalid syntax (4061670419.py, line 8)",
     "output_type": "error",
     "traceback": [
      "\u001b[0;36m  File \u001b[0;32m\"/var/folders/tg/c6tcjwk13mj583lxrf25k3jm0000gn/T/ipykernel_44654/4061670419.py\"\u001b[0;36m, line \u001b[0;32m8\u001b[0m\n\u001b[0;31m    if cont == \"No\"\u001b[0m\n\u001b[0m                   ^\u001b[0m\n\u001b[0;31mSyntaxError\u001b[0m\u001b[0;31m:\u001b[0m invalid syntax\n"
     ]
    }
   ],
   "source": [
    "integer = int(input(\"Enter a integer. \"))\n",
    "\n",
    "print(\"number |\"+\" squared |\"+\" cubed\")\n",
    "for n in range(1, (integer+1)):\n",
    "    print(str(n) + \"      |\"+ str(n**n)+ \"       |\"+ str(n**n**n))\n",
    "\n",
    "cont = input(\"Do you want to continue?\")\n",
    "\n"
   ]
  },
  {
   "cell_type": "code",
   "execution_count": 219,
   "id": "de95777a",
   "metadata": {},
   "outputs": [
    {
     "name": "stdout",
     "output_type": "stream",
     "text": [
      "Enter grade from 0-100, 44\n",
      "[[88, 89, 90, 91, 92, 93, 94, 95, 96, 97, 98, 99, 100], [80, 81, 82, 83, 84, 85, 86, 87], [67, 68, 69, 70, 71, 72, 73, 74, 75, 76, 77, 78, 79], [60, 61, 62, 63, 64, 65, 66], [0, 1, 2, 3, 4, 5, 6, 7, 8, 9, 10, 11, 12, 13, 14, 15, 16, 17, 18, 19, 20, 21, 22, 23, 24, 25, 26, 27, 28, 29, 30, 31, 32, 33, 34, 35, 36, 37, 38, 39, 40, 41, 42, 43, 44, 45, 46, 47, 48, 49, 50, 51, 52, 53, 54, 55, 56, 57, 58, 59]]\n"
     ]
    },
    {
     "ename": "KeyboardInterrupt",
     "evalue": "Interrupted by user",
     "output_type": "error",
     "traceback": [
      "\u001b[0;31m---------------------------------------------------------------------------\u001b[0m",
      "\u001b[0;31mKeyboardInterrupt\u001b[0m                         Traceback (most recent call last)",
      "\u001b[0;32m/var/folders/tg/c6tcjwk13mj583lxrf25k3jm0000gn/T/ipykernel_44654/3873458877.py\u001b[0m in \u001b[0;36m<module>\u001b[0;34m\u001b[0m\n\u001b[1;32m      9\u001b[0m \u001b[0mprint\u001b[0m\u001b[0;34m(\u001b[0m\u001b[0mgrade_ranges\u001b[0m\u001b[0;34m)\u001b[0m\u001b[0;34m\u001b[0m\u001b[0;34m\u001b[0m\u001b[0m\n\u001b[1;32m     10\u001b[0m \u001b[0;34m\u001b[0m\u001b[0m\n\u001b[0;32m---> 11\u001b[0;31m \u001b[0;34m(\u001b[0m\u001b[0minput\u001b[0m\u001b[0;34m(\u001b[0m\u001b[0;34m\"Please continue, \"\u001b[0m\u001b[0;34m)\u001b[0m\u001b[0;34m)\u001b[0m\u001b[0;34m\u001b[0m\u001b[0;34m\u001b[0m\u001b[0m\n\u001b[0m",
      "\u001b[0;32m/opt/homebrew/anaconda3/lib/python3.9/site-packages/ipykernel/kernelbase.py\u001b[0m in \u001b[0;36mraw_input\u001b[0;34m(self, prompt)\u001b[0m\n\u001b[1;32m   1004\u001b[0m                 \u001b[0;34m\"raw_input was called, but this frontend does not support input requests.\"\u001b[0m\u001b[0;34m\u001b[0m\u001b[0;34m\u001b[0m\u001b[0m\n\u001b[1;32m   1005\u001b[0m             )\n\u001b[0;32m-> 1006\u001b[0;31m         return self._input_request(\n\u001b[0m\u001b[1;32m   1007\u001b[0m             \u001b[0mstr\u001b[0m\u001b[0;34m(\u001b[0m\u001b[0mprompt\u001b[0m\u001b[0;34m)\u001b[0m\u001b[0;34m,\u001b[0m\u001b[0;34m\u001b[0m\u001b[0;34m\u001b[0m\u001b[0m\n\u001b[1;32m   1008\u001b[0m             \u001b[0mself\u001b[0m\u001b[0;34m.\u001b[0m\u001b[0m_parent_ident\u001b[0m\u001b[0;34m[\u001b[0m\u001b[0;34m\"shell\"\u001b[0m\u001b[0;34m]\u001b[0m\u001b[0;34m,\u001b[0m\u001b[0;34m\u001b[0m\u001b[0;34m\u001b[0m\u001b[0m\n",
      "\u001b[0;32m/opt/homebrew/anaconda3/lib/python3.9/site-packages/ipykernel/kernelbase.py\u001b[0m in \u001b[0;36m_input_request\u001b[0;34m(self, prompt, ident, parent, password)\u001b[0m\n\u001b[1;32m   1049\u001b[0m             \u001b[0;32mexcept\u001b[0m \u001b[0mKeyboardInterrupt\u001b[0m\u001b[0;34m:\u001b[0m\u001b[0;34m\u001b[0m\u001b[0;34m\u001b[0m\u001b[0m\n\u001b[1;32m   1050\u001b[0m                 \u001b[0;31m# re-raise KeyboardInterrupt, to truncate traceback\u001b[0m\u001b[0;34m\u001b[0m\u001b[0;34m\u001b[0m\u001b[0m\n\u001b[0;32m-> 1051\u001b[0;31m                 \u001b[0;32mraise\u001b[0m \u001b[0mKeyboardInterrupt\u001b[0m\u001b[0;34m(\u001b[0m\u001b[0;34m\"Interrupted by user\"\u001b[0m\u001b[0;34m)\u001b[0m \u001b[0;32mfrom\u001b[0m \u001b[0;32mNone\u001b[0m\u001b[0;34m\u001b[0m\u001b[0;34m\u001b[0m\u001b[0m\n\u001b[0m\u001b[1;32m   1052\u001b[0m             \u001b[0;32mexcept\u001b[0m \u001b[0mException\u001b[0m\u001b[0;34m:\u001b[0m\u001b[0;34m\u001b[0m\u001b[0;34m\u001b[0m\u001b[0m\n\u001b[1;32m   1053\u001b[0m                 \u001b[0mself\u001b[0m\u001b[0;34m.\u001b[0m\u001b[0mlog\u001b[0m\u001b[0;34m.\u001b[0m\u001b[0mwarning\u001b[0m\u001b[0;34m(\u001b[0m\u001b[0;34m\"Invalid Message:\"\u001b[0m\u001b[0;34m,\u001b[0m \u001b[0mexc_info\u001b[0m\u001b[0;34m=\u001b[0m\u001b[0;32mTrue\u001b[0m\u001b[0;34m)\u001b[0m\u001b[0;34m\u001b[0m\u001b[0;34m\u001b[0m\u001b[0m\n",
      "\u001b[0;31mKeyboardInterrupt\u001b[0m: Interrupted by user"
     ]
    }
   ],
   "source": [
    "grade = int(input(\"Enter grade from 0-100, \"))\n",
    "A = list(range(88, 101))\n",
    "B = list(range(80, 88))\n",
    "C = list(range(67, 80))\n",
    "D = list(range(60, 67))\n",
    "F = list(range(60))\n",
    "grade_ranges = [A, B, C, D, F]\n",
    "\n",
    "print(grade_ranges)\n",
    "\n",
    "(input(\"Please continue, \"))"
   ]
  },
  {
   "cell_type": "code",
   "execution_count": 230,
   "id": "42f64a57",
   "metadata": {},
   "outputs": [
    {
     "name": "stdout",
     "output_type": "stream",
     "text": [
      "Enter a genre, mystery\n",
      "Title: Start\n",
      "Author: Sally\n",
      "Genre: mystery\n"
     ]
    }
   ],
   "source": [
    "user_genre = input(\"Enter a genre, \")\n",
    "\n",
    "for book in books_read:\n",
    "     if book['genre'] == user_genre:\n",
    "            print(\"Title: \"+ book['title'])\n",
    "            print(\"Author: \"+ book['author'])\n",
    "            print(\"Genre: \"+book['genre'])"
   ]
  },
  {
   "cell_type": "code",
   "execution_count": 226,
   "id": "d5b732a3",
   "metadata": {},
   "outputs": [
    {
     "name": "stdout",
     "output_type": "stream",
     "text": [
      "Title: Start\n",
      "Author: Sally\n",
      "Genre: mystery\n",
      "Title: Continue\n",
      "Author: Billy\n",
      "Genre: adventure\n",
      "Title: Finish\n",
      "Author: Tommy\n",
      "Genre: horror\n"
     ]
    }
   ],
   "source": [
    "beginning_book = [\"Start\", 'Sally', 'mystery']\n",
    "middle_book = [\"Continue\", 'Billy', 'adventure']\n",
    "ending_book = [\"Finish\", 'Tommy', 'horror']\n",
    "\n",
    "beginning_book = {'title': \"Start\", 'author': 'Sally', 'genre': 'mystery'}\n",
    "middle_book = {'title': \"Continue\", 'author': 'Billy', 'genre': 'adventure'}\n",
    "ending_book = {'title': \"Finish\", 'author': 'Tommy', 'genre': 'horror'}\n",
    "\n",
    "books_read = [beginning_book, middle_book, ending_book]\n",
    "\n",
    "for book in books_read:\n",
    "    print(\"Title: \"+ book['title'])\n",
    "    print(\"Author: \"+ book['author'])\n",
    "    print(\"Genre: \"+book['genre'])"
   ]
  },
  {
   "cell_type": "code",
   "execution_count": 221,
   "id": "224b8fe2",
   "metadata": {},
   "outputs": [
    {
     "name": "stdout",
     "output_type": "stream",
     "text": [
      "joe\n",
      "[99, 100]\n",
      "arsene\n",
      "[87, 88, 89, 90, 91]\n",
      "kayla\n",
      "[88, 89]\n"
     ]
    }
   ],
   "source": [
    "student_0 = [1, 'joe', 89]\n",
    "student_1 = [2, 'arsene', 87]\n",
    "student_2 = [3, 'kayla', 88]\n",
    "\n",
    "\n",
    "student_0 = {\n",
    "    'id':1,\n",
    "    'name':'joe',\n",
    "    'grades':[99, 100]\n",
    "    }\n",
    "\n",
    "student_1 = {\n",
    "    'id':2,\n",
    "    'name':'arsene',\n",
    "    'grades': [87, 88, 89, 90, 91]\n",
    "}\n",
    "\n",
    "student_2 = {\n",
    "    'id':3,\n",
    "    'name':'kayla',\n",
    "    'grades':[88, 89]\n",
    "}\n",
    "\n",
    "list_of_students = [student_0, student_1, student_2]\n",
    "\n",
    "#easy_grade_sum = sum_of_student_0_and_1+ list_of_students[2]['grade']\n",
    "\n",
    "\n",
    "for student in list_of_students:\n",
    "    print(student['name'])\n",
    "    print(student['grades'])\n",
    "    sum_of_grades_for_student = 0"
   ]
  },
  {
   "cell_type": "code",
   "execution_count": 251,
   "id": "036d899e",
   "metadata": {},
   "outputs": [
    {
     "name": "stdout",
     "output_type": "stream",
     "text": [
      "Enter an positive number: 5\n",
      "1\n",
      "1 is positive\n",
      "2\n",
      "2 is positive\n",
      "3\n",
      "3 is positive\n",
      "4\n",
      "4 is positive\n",
      "5\n",
      "5 is positive\n"
     ]
    }
   ],
   "source": [
    "pos = input(\"Enter an positive number: \")\n",
    "pos.isdigit()\n",
    "pos = int(pos)\n",
    "\n",
    "for x in range(pos):\n",
    "    x = x+1\n",
    "    if x > 0:\n",
    "        print(str(x)+' is positive')\n",
    "    "
   ]
  },
  {
   "cell_type": "code",
   "execution_count": 238,
   "id": "bba34b08",
   "metadata": {},
   "outputs": [],
   "source": [
    "#The input function can be used to prompt for input and use that input in your python code. \n",
    "#Prompt the user to enter a positive number and write a loop that counts from 0 to that number. \n",
    "#(Hints: first make sure that the value the user entered is a valid number, \n",
    "#also note that the input function returns a string, so you'll need to convert this to a numeric type"
   ]
  },
  {
   "cell_type": "code",
   "execution_count": 254,
   "id": "a91d0af9",
   "metadata": {},
   "outputs": [
    {
     "name": "stdout",
     "output_type": "stream",
     "text": [
      "Enter an positive number: 6\n",
      "6 is positive\n",
      "5 is positive\n",
      "4 is positive\n",
      "3 is positive\n",
      "2 is positive\n",
      "1 is positive\n"
     ]
    }
   ],
   "source": [
    "#Write a program that prompts the user for a positive integer. \n",
    "#Next write a loop that prints out the numbers from the number the user entered down to 1\n",
    "pos = input(\"Enter an positive number: \")\n",
    "pos.isdigit()\n",
    "pos = int(pos)\n",
    "\n",
    "for x in range(pos):\n",
    "    x = x+1\n",
    "    if x > 0:\n",
    "        x = pos - (x-1)\n",
    "        print(str(x)+' is positive')\n",
    "        \n",
    "        "
   ]
  },
  {
   "cell_type": "code",
   "execution_count": 258,
   "id": "162193f7",
   "metadata": {},
   "outputs": [
    {
     "ename": "IndentationError",
     "evalue": "expected an indented block (3931181663.py, line 10)",
     "output_type": "error",
     "traceback": [
      "\u001b[0;36m  File \u001b[0;32m\"/var/folders/tg/c6tcjwk13mj583lxrf25k3jm0000gn/T/ipykernel_44654/3931181663.py\"\u001b[0;36m, line \u001b[0;32m10\u001b[0m\n\u001b[0;31m    for n in range(1, 51):\u001b[0m\n\u001b[0m    ^\u001b[0m\n\u001b[0;31mIndentationError\u001b[0m\u001b[0;31m:\u001b[0m expected an indented block\n"
     ]
    }
   ],
   "source": [
    "odd = input(\"Enter an odd number between 1 and 50, \")\n",
    "odd.isdigit()\n",
    "\n",
    "odd = int(pos)\n",
    "\n",
    "\n",
    "\n",
    "for n in range(1, 51):\n",
    "    if n % 2 == 0:\n",
    "        continue\n",
    "    print(f'Here is an odd number: {n}')"
   ]
  },
  {
   "cell_type": "code",
   "execution_count": 383,
   "id": "bba0c623",
   "metadata": {},
   "outputs": [
    {
     "name": "stdout",
     "output_type": "stream",
     "text": [
      "number | squared | cubed\n",
      "1      |1       |1\n",
      "Do you want to continue? Yes or No, 5\n",
      "Thanks for playing\n"
     ]
    }
   ],
   "source": [
    "print(\"number |\"+\" squared |\"+\" cubed\")\n",
    "for n in range(1, (integer+1)):\n",
    "    print(str(n) + \"      |\"+ str(n**n)+ \"       |\"+ str(n**n**n))\n",
    "\n",
    "cont = input(\"Do you want to continue? Yes or No, \")\n",
    "\n",
    "if cont == 'Yes':\n",
    "    integer = int(input(\"Enter an integer, \"))\n",
    "    print(\"number |\"+\" squared |\"+\" cubed\")\n",
    "    for n in range(1, (integer+1)):\n",
    "        print(str(n) + \"      |\"+ str(n**n)+ \"       |\"+ str(n**n**n))\n",
    "else:\n",
    "    print('Thanks for playing')"
   ]
  },
  {
   "cell_type": "markdown",
   "id": "3bb44611",
   "metadata": {},
   "source": [
    "odd = input(\"Enter an odd number between 1 and 50, \")\n",
    "odd.isdigit()\n",
    "\n",
    "odd = int(odd)\n",
    "\n",
    "if odd > 0 and odd <= 50 and odd % 2 == 1:\n",
    "     print(str(odd) + ' is odd, greater than 0, and less than or equal 50')\n",
    "else:\n",
    "    odd = input(\"Enter another number\")"
   ]
  },
  {
   "cell_type": "code",
   "execution_count": 270,
   "id": "2637d50d",
   "metadata": {},
   "outputs": [
    {
     "name": "stdout",
     "output_type": "stream",
     "text": [
      "Enter an odd number between 1 and 50, 22\n"
     ]
    },
    {
     "ename": "KeyboardInterrupt",
     "evalue": "Interrupted by user",
     "output_type": "error",
     "traceback": [
      "\u001b[0;31m---------------------------------------------------------------------------\u001b[0m",
      "\u001b[0;31mKeyboardInterrupt\u001b[0m                         Traceback (most recent call last)",
      "\u001b[0;32m/var/folders/tg/c6tcjwk13mj583lxrf25k3jm0000gn/T/ipykernel_44654/895550025.py\u001b[0m in \u001b[0;36m<module>\u001b[0;34m\u001b[0m\n\u001b[1;32m      7\u001b[0m      \u001b[0mprint\u001b[0m\u001b[0;34m(\u001b[0m\u001b[0mstr\u001b[0m\u001b[0;34m(\u001b[0m\u001b[0modd\u001b[0m\u001b[0;34m)\u001b[0m \u001b[0;34m+\u001b[0m \u001b[0;34m' is odd, greater than 0, and less than or equal 50'\u001b[0m\u001b[0;34m)\u001b[0m\u001b[0;34m\u001b[0m\u001b[0;34m\u001b[0m\u001b[0m\n\u001b[1;32m      8\u001b[0m \u001b[0;32melse\u001b[0m\u001b[0;34m:\u001b[0m\u001b[0;34m\u001b[0m\u001b[0;34m\u001b[0m\u001b[0m\n\u001b[0;32m----> 9\u001b[0;31m     \u001b[0modd\u001b[0m \u001b[0;34m=\u001b[0m \u001b[0minput\u001b[0m\u001b[0;34m(\u001b[0m\u001b[0;34m\"Enter another number\"\u001b[0m\u001b[0;34m)\u001b[0m\u001b[0;34m\u001b[0m\u001b[0;34m\u001b[0m\u001b[0m\n\u001b[0m",
      "\u001b[0;32m/opt/homebrew/anaconda3/lib/python3.9/site-packages/ipykernel/kernelbase.py\u001b[0m in \u001b[0;36mraw_input\u001b[0;34m(self, prompt)\u001b[0m\n\u001b[1;32m   1004\u001b[0m                 \u001b[0;34m\"raw_input was called, but this frontend does not support input requests.\"\u001b[0m\u001b[0;34m\u001b[0m\u001b[0;34m\u001b[0m\u001b[0m\n\u001b[1;32m   1005\u001b[0m             )\n\u001b[0;32m-> 1006\u001b[0;31m         return self._input_request(\n\u001b[0m\u001b[1;32m   1007\u001b[0m             \u001b[0mstr\u001b[0m\u001b[0;34m(\u001b[0m\u001b[0mprompt\u001b[0m\u001b[0;34m)\u001b[0m\u001b[0;34m,\u001b[0m\u001b[0;34m\u001b[0m\u001b[0;34m\u001b[0m\u001b[0m\n\u001b[1;32m   1008\u001b[0m             \u001b[0mself\u001b[0m\u001b[0;34m.\u001b[0m\u001b[0m_parent_ident\u001b[0m\u001b[0;34m[\u001b[0m\u001b[0;34m\"shell\"\u001b[0m\u001b[0;34m]\u001b[0m\u001b[0;34m,\u001b[0m\u001b[0;34m\u001b[0m\u001b[0;34m\u001b[0m\u001b[0m\n",
      "\u001b[0;32m/opt/homebrew/anaconda3/lib/python3.9/site-packages/ipykernel/kernelbase.py\u001b[0m in \u001b[0;36m_input_request\u001b[0;34m(self, prompt, ident, parent, password)\u001b[0m\n\u001b[1;32m   1049\u001b[0m             \u001b[0;32mexcept\u001b[0m \u001b[0mKeyboardInterrupt\u001b[0m\u001b[0;34m:\u001b[0m\u001b[0;34m\u001b[0m\u001b[0;34m\u001b[0m\u001b[0m\n\u001b[1;32m   1050\u001b[0m                 \u001b[0;31m# re-raise KeyboardInterrupt, to truncate traceback\u001b[0m\u001b[0;34m\u001b[0m\u001b[0;34m\u001b[0m\u001b[0m\n\u001b[0;32m-> 1051\u001b[0;31m                 \u001b[0;32mraise\u001b[0m \u001b[0mKeyboardInterrupt\u001b[0m\u001b[0;34m(\u001b[0m\u001b[0;34m\"Interrupted by user\"\u001b[0m\u001b[0;34m)\u001b[0m \u001b[0;32mfrom\u001b[0m \u001b[0;32mNone\u001b[0m\u001b[0;34m\u001b[0m\u001b[0;34m\u001b[0m\u001b[0m\n\u001b[0m\u001b[1;32m   1052\u001b[0m             \u001b[0;32mexcept\u001b[0m \u001b[0mException\u001b[0m\u001b[0;34m:\u001b[0m\u001b[0;34m\u001b[0m\u001b[0;34m\u001b[0m\u001b[0m\n\u001b[1;32m   1053\u001b[0m                 \u001b[0mself\u001b[0m\u001b[0;34m.\u001b[0m\u001b[0mlog\u001b[0m\u001b[0;34m.\u001b[0m\u001b[0mwarning\u001b[0m\u001b[0;34m(\u001b[0m\u001b[0;34m\"Invalid Message:\"\u001b[0m\u001b[0;34m,\u001b[0m \u001b[0mexc_info\u001b[0m\u001b[0;34m=\u001b[0m\u001b[0;32mTrue\u001b[0m\u001b[0;34m)\u001b[0m\u001b[0;34m\u001b[0m\u001b[0;34m\u001b[0m\u001b[0m\n",
      "\u001b[0;31mKeyboardInterrupt\u001b[0m: Interrupted by user"
     ]
    }
   ],
   "source": [
    "odd = input(\"Enter an odd number between 1 and 50, \")\n",
    "odd.isdigit()\n",
    "\n",
    "odd = int(odd)\n",
    "\n",
    "if odd > 0 and odd <= 50 and odd % 2 == 1:\n",
    "     print(str(odd) + ' is odd, greater than 0, and less than or equal 50')\n",
    "else:\n",
    "    odd = input(\"Enter another number\")"
   ]
  },
  {
   "cell_type": "code",
   "execution_count": 283,
   "id": "493e8a39",
   "metadata": {},
   "outputs": [
    {
     "name": "stdout",
     "output_type": "stream",
     "text": [
      "Enter grade from 0-100, 77\n",
      "Grade is C\n",
      "Would you like to continue? Yes or No, Yes\n",
      "Enter grade from 0-100, 88\n",
      "Grade is A\n"
     ]
    }
   ],
   "source": [
    "#5. Convert given number grades into letter grades.\n",
    "# Prompt the user for a numerical grade from 0 to 100.\n",
    "# Display the corresponding letter grade.\n",
    "# Prompt the user to continue.\n",
    "# Assume that the user will enter valid integers for the grades.\n",
    "# The application should only continue if the user agrees to.\n",
    "# Grade Ranges:\n",
    "\n",
    "grade = int(input(\"Enter grade from 0-100, \"))\n",
    "A = list(range(88, 101))\n",
    "B = list(range(80, 88))\n",
    "C = list(range(67, 80))\n",
    "D = list(range(60, 67))\n",
    "F = list(range(60))\n",
    "\n",
    "grade_ranges = [A, B, C, D, F]\n",
    "\n",
    "if grade in grade_ranges[0]:\n",
    "    print('Grade is A')\n",
    "elif grade in grade_ranges[1]:\n",
    "    print('Grade is B')\n",
    "elif grade in grade_ranges[2]:\n",
    "    print('Grade is C')\n",
    "elif grade in grade_ranges[3]:\n",
    "    print('Grade is D')\n",
    "else:\n",
    "    print('Grade is F')\n",
    "    \n",
    "    \n",
    "cont = input(\"Would you like to continue? Yes or No, \")\n",
    "if cont == 'Yes':\n",
    "    grade = int(input(\"Enter grade from 0-100, \"))\n",
    "    if grade in grade_ranges[0]:\n",
    "        print('Grade is A')\n",
    "    elif grade in grade_ranges[1]:\n",
    "        print('Grade is B')\n",
    "    elif grade in grade_ranges[2]:\n",
    "        print('Grade is C')\n",
    "    elif grade in grade_ranges[3]:\n",
    "        print('Grade is D')\n",
    "    else:\n",
    "        print('Grade is F')\n",
    "\n",
    "else:\n",
    "    print('Thanks for playing')"
   ]
  },
  {
   "cell_type": "code",
   "execution_count": 290,
   "id": "3f9d5760",
   "metadata": {},
   "outputs": [
    {
     "name": "stdout",
     "output_type": "stream",
     "text": [
      "Enter an integer. 1\n",
      "number | squared | cubed\n",
      "1      |1       |1\n",
      "Do you want to continue? Yes or No, No\n",
      "Thanks for playing\n"
     ]
    }
   ],
   "source": [
    "integer = int(input(\"Enter an integer. \"))\n",
    "\n",
    "print(\"number |\"+\" squared |\"+\" cubed\")\n",
    "for n in range(1, (integer+1)):\n",
    "    print(str(n) + \"      |\"+ str(n**n)+ \"       |\"+ str(n**n**n))\n",
    "\n",
    "cont = input(\"Do you want to continue? Yes or No, \")\n",
    "\n",
    "if cont == 'Yes':\n",
    "    integer = int(input(\"Enter an integer, \"))\n",
    "    print(\"number |\"+\" squared |\"+\" cubed\")\n",
    "    for n in range(1, (integer+1)):\n",
    "        print(str(n) + \"      |\"+ str(n**n)+ \"       |\"+ str(n**n**n))\n",
    "else:\n",
    "    print('Thanks for playing')"
   ]
  },
  {
   "cell_type": "code",
   "execution_count": null,
   "id": "d590d8eb",
   "metadata": {},
   "outputs": [],
   "source": [
    "hours_worked = [30, 50]\n",
    "hourly_wages = 20\n",
    "weekly_wages = [h * hourly_wages for h in hours_worked]\n",
    "print(weekly_wages)\n",
    "\n",
    "for h in hours_worked:\n",
    "    if h > 40:\n",
    "        weekly_wages = [h * hourly_wages *1.5 for h in hours_worked]\n",
    "    else:\n",
    "        weekly_wages = [h * hourly_wages for h in hours_worked]\n",
    "print(weekly_wages)\n",
    "\n",
    "if h in hours_worked < 40"
   ]
  },
  {
   "cell_type": "code",
   "execution_count": 308,
   "id": "3d5f0a83",
   "metadata": {},
   "outputs": [
    {
     "name": "stdout",
     "output_type": "stream",
     "text": [
      "Weekly wages are $[600]\n",
      "Weekly wages are $[1500.0]\n"
     ]
    }
   ],
   "source": [
    "hours_worked = [30, 50]\n",
    "hourly_wages = 20\n",
    "weekly_wages = [h * hourly_wages for h in hours_worked]\n",
    "\n",
    "\n",
    "for h in hours_worked:\n",
    "    if h < 40:\n",
    "        h = [h * hourly_wages] \n",
    "    else:\n",
    "        h = [h * hourly_wages * 1.5]\n",
    "    print('Weekly wages are $' + str(h))"
   ]
  },
  {
   "cell_type": "code",
   "execution_count": 309,
   "id": "d4b64348",
   "metadata": {},
   "outputs": [
    {
     "name": "stdout",
     "output_type": "stream",
     "text": [
      "Paycheck is $[600]\n",
      "Paycheck is $[1500.0]\n"
     ]
    }
   ],
   "source": [
    "hours_worked = [30, 50]\n",
    "hourly_wages = 20\n",
    "weekly_wages = [h * hourly_wages for h in hours_worked]\n",
    "\n",
    "\n",
    "for h in hours_worked:\n",
    "    if h < 40:\n",
    "        h = [h * hourly_wages] \n",
    "    else:\n",
    "        h = [h * hourly_wages * 1.5]\n",
    "    print('Paycheck is $' + str(h))"
   ]
  },
  {
   "cell_type": "code",
   "execution_count": 310,
   "id": "3ae2c1ba",
   "metadata": {},
   "outputs": [
    {
     "name": "stdout",
     "output_type": "stream",
     "text": [
      "1\n",
      "20\n",
      "300\n",
      "4000\n",
      "50000\n",
      "600000\n",
      "7000000\n",
      "80000000\n",
      "900000000\n"
     ]
    }
   ],
   "source": [
    "for n in range(1, 10):\n",
    "    print(f'{n * (10**(n-1))}')"
   ]
  },
  {
   "cell_type": "code",
   "execution_count": 314,
   "id": "ffcd3ce9",
   "metadata": {},
   "outputs": [
    {
     "name": "stdout",
     "output_type": "stream",
     "text": [
      "1\n",
      "22\n",
      "333\n",
      "4444\n",
      "55555\n",
      "666666\n",
      "7777777\n",
      "88888888\n",
      "999999999\n"
     ]
    }
   ],
   "source": [
    "for n in list(range(1, 10)):\n",
    "    print(str(n)*n)"
   ]
  },
  {
   "cell_type": "code",
   "execution_count": 318,
   "id": "6b030362",
   "metadata": {},
   "outputs": [
    {
     "ename": "SyntaxError",
     "evalue": "invalid syntax (82363589.py, line 15)",
     "output_type": "error",
     "traceback": [
      "\u001b[0;36m  File \u001b[0;32m\"/var/folders/tg/c6tcjwk13mj583lxrf25k3jm0000gn/T/ipykernel_44654/82363589.py\"\u001b[0;36m, line \u001b[0;32m15\u001b[0m\n\u001b[0;31m    elif:\u001b[0m\n\u001b[0m        ^\u001b[0m\n\u001b[0;31mSyntaxError\u001b[0m\u001b[0;31m:\u001b[0m invalid syntax\n"
     ]
    }
   ],
   "source": [
    "# Prompt the user for an odd number between 1 and 50. \n",
    "# Use a loop and a break statement to continue prompting the user if they enter invalid input. \n",
    "# (Hint: use the isdigit method on strings to determine this). \n",
    "# Use a loop and the continue statement to output all the odd numbers between 1 and 50, \n",
    "# except for the number the user entered\n",
    "\n",
    "odd = input(\"Enter an odd number between 1 and 50, \")\n",
    "odd.isdigit()\n",
    "\n",
    "odd = int(odd)\n",
    "\n",
    "for n in odd:\n",
    "    if odd.isdigit() == False:\n",
    "        odd = input(\"Try entering an odd number again\")\n",
    "    elif:\n",
    "        odd > 0 and odd <= 50 and odd % 2 == 1\n",
    "        print(str(odd) + ' is odd, greater than 0, and less than or equal 50')\n",
    "    else:\n",
    "        print('Number is not odd.')"
   ]
  },
  {
   "cell_type": "code",
   "execution_count": 323,
   "id": "2139428a",
   "metadata": {},
   "outputs": [
    {
     "name": "stdout",
     "output_type": "stream",
     "text": [
      "Please enter an odd number from 1 to 50, f6\n",
      "Please try again using numbers only, 77\n"
     ]
    }
   ],
   "source": [
    "# Prompt the user for an odd number between 1 and 50. \n",
    "# Use a loop and a break statement to continue prompting the user if they enter invalid input. \n",
    "# (Hint: use the isdigit method on strings to determine this). \n",
    "# Use a loop and the continue statement to output all the odd numbers between 1 and 50, \n",
    "# except for the number the user entered\n",
    "\n",
    "odd = input(\"Please enter an odd number from 1 to 50, \")\n",
    "\n",
    "for n in odd:\n",
    "    if odd.isdigit() == False:\n",
    "        odd = input('Please try again using numbers only, ')\n",
    "    elif odd.isdigit() == True:\n",
    "        break"
   ]
  },
  {
   "cell_type": "code",
   "execution_count": 327,
   "id": "8300800f",
   "metadata": {},
   "outputs": [
    {
     "name": "stdout",
     "output_type": "stream",
     "text": [
      "Please enter an odd number from 1 to 50, 40\n",
      "Enter another number70\n"
     ]
    }
   ],
   "source": [
    "odd = input(\"Please enter an odd number from 1 to 50, \")\n",
    "\n",
    "for n in odd:\n",
    "    if odd.isdigit() == False:\n",
    "        odd = input('Please try again using numbers only, ')\n",
    "    elif odd.isdigit() == True:\n",
    "        break\n",
    "\n",
    "odd = int(odd)\n",
    "\n",
    "if odd > 0 and odd <= 50 and odd % 2 == 1:\n",
    "     print(str(odd) + ' is odd, greater than 0, and less than or equal 50')\n",
    "else:\n",
    "    odd = input(\"Enter another number\")"
   ]
  },
  {
   "cell_type": "code",
   "execution_count": 329,
   "id": "7c3fc17a",
   "metadata": {},
   "outputs": [
    {
     "ename": "SyntaxError",
     "evalue": "invalid syntax (223672767.py, line 14)",
     "output_type": "error",
     "traceback": [
      "\u001b[0;36m  File \u001b[0;32m\"/var/folders/tg/c6tcjwk13mj583lxrf25k3jm0000gn/T/ipykernel_44654/223672767.py\"\u001b[0;36m, line \u001b[0;32m14\u001b[0m\n\u001b[0;31m    elif odd > 0 and odd <= 50 and odd % 2 == 1:\u001b[0m\n\u001b[0m    ^\u001b[0m\n\u001b[0;31mSyntaxError\u001b[0m\u001b[0;31m:\u001b[0m invalid syntax\n"
     ]
    }
   ],
   "source": [
    "odd = input(\"Please enter an odd number from 1 to 50, \")\n",
    "\n",
    "for n in odd:\n",
    "    if odd.isdigit() == False:\n",
    "        odd = input('Please try again using numbers only, ')\n",
    "    elif odd.isdigit() == True:\n",
    "        break\n",
    "\n",
    "for n in odd:\n",
    "    odd = int(odd)\n",
    "    elif odd > 0 and odd <= 50 and odd % 2 == 1:\n",
    "        print(str(odd) + ' is odd, greater than 0, and less than or equal 50')\n",
    "    else:\n",
    "        odd = input(\"Enter another number, \")"
   ]
  },
  {
   "cell_type": "code",
   "execution_count": 375,
   "id": "5d32c092",
   "metadata": {},
   "outputs": [
    {
     "name": "stdout",
     "output_type": "stream",
     "text": [
      "Please enter an odd number from 1 to 50, 24\n",
      "Please try again using odd numbers only, 25\n",
      "Here is an odd number: 1\n",
      "Here is an odd number: 3\n",
      "Here is an odd number: 5\n",
      "Here is an odd number: 7\n",
      "Here is an odd number: 9\n",
      "Here is an odd number: 11\n",
      "Here is an odd number: 13\n",
      "Here is an odd number: 15\n",
      "Here is an odd number: 17\n",
      "Here is an odd number: 19\n",
      "Here is an odd number: 21\n",
      "Here is an odd number: 23\n",
      "Yikes! Skipping number 25\n",
      "Here is an odd number: 27\n",
      "Here is an odd number: 29\n",
      "Here is an odd number: 31\n",
      "Here is an odd number: 33\n",
      "Here is an odd number: 35\n",
      "Here is an odd number: 37\n",
      "Here is an odd number: 39\n",
      "Here is an odd number: 41\n",
      "Here is an odd number: 43\n",
      "Here is an odd number: 45\n",
      "Here is an odd number: 47\n",
      "Here is an odd number: 49\n"
     ]
    }
   ],
   "source": [
    "odd = input(\"Please enter an odd number from 1 to 50, \")\n",
    "\n",
    "for n in odd:\n",
    "    if odd.isdigit() == False or int(odd) > 50 or int(odd) % 2 == 0:\n",
    "        odd = input('Please try again using odd numbers only, ')\n",
    "    elif odd.isdigit() == True:\n",
    "        break\n",
    "        \n",
    "for n in range(1, 51):\n",
    "    odd = int(odd)\n",
    "    if n == odd:\n",
    "        print('Yikes! Skipping number ' + str(odd))\n",
    "    elif n % 2 == 0:\n",
    "        continue\n",
    "    else:\n",
    "        print(f'Here is an odd number: {n}')\n"
   ]
  },
  {
   "cell_type": "code",
   "execution_count": 377,
   "id": "2f3b06fa",
   "metadata": {},
   "outputs": [
    {
     "name": "stdout",
     "output_type": "stream",
     "text": [
      "Enter an positive number: 8\n",
      "8 is positive\n",
      "7 is positive\n",
      "6 is positive\n",
      "5 is positive\n",
      "4 is positive\n",
      "3 is positive\n",
      "2 is positive\n",
      "1 is positive\n"
     ]
    }
   ],
   "source": [
    "pos = input(\"Enter an positive number: \")\n",
    "pos.isdigit()\n",
    "pos = int(pos)\n",
    "\n",
    "for x in range(pos):\n",
    "    x = x+1\n",
    "    if x > 0:\n",
    "        x = pos - (x-1)\n",
    "        print(str(x)+' is positive')"
   ]
  },
  {
   "cell_type": "code",
   "execution_count": 380,
   "id": "e863c2cf",
   "metadata": {},
   "outputs": [
    {
     "name": "stdout",
     "output_type": "stream",
     "text": [
      "Enter an positive number: 5\n",
      "1 is positive\n",
      "2 is positive\n",
      "3 is positive\n",
      "4 is positive\n",
      "5 is positive\n"
     ]
    }
   ],
   "source": [
    "pos = input(\"Enter an positive number: \")\n",
    "pos.isdigit()\n",
    "pos = int(pos)\n",
    "\n",
    "for x in range(pos):\n",
    "    x = x+1\n",
    "    if x >= 0:\n",
    "        print(str(x)+' is positive')"
   ]
  },
  {
   "cell_type": "code",
   "execution_count": 381,
   "id": "2088b147",
   "metadata": {},
   "outputs": [
    {
     "name": "stdout",
     "output_type": "stream",
     "text": [
      "Enter an positive number: 3\n",
      "1 is positive\n",
      "2 is positive\n"
     ]
    }
   ],
   "source": [
    "pos = input(\"Enter an positive number: \")\n",
    "pos.isdigit()\n",
    "pos = int(pos)\n",
    "\n",
    "for x in range(pos):\n",
    "    x = x+1\n",
    "    if x > 0:\n",
    "        print(str(x)+' is positive')"
   ]
  },
  {
   "cell_type": "code",
   "execution_count": 341,
   "id": "d7a5b163",
   "metadata": {},
   "outputs": [
    {
     "name": "stdout",
     "output_type": "stream",
     "text": [
      "<class 'int'>\n",
      "<class 'int'>\n",
      "<class 'int'>\n",
      "<class 'int'>\n",
      "<class 'int'>\n",
      "<class 'int'>\n",
      "<class 'int'>\n",
      "<class 'int'>\n",
      "<class 'int'>\n",
      "<class 'int'>\n",
      "<class 'int'>\n",
      "<class 'int'>\n",
      "<class 'int'>\n",
      "<class 'int'>\n",
      "<class 'int'>\n",
      "<class 'int'>\n",
      "<class 'int'>\n",
      "<class 'int'>\n",
      "<class 'int'>\n",
      "<class 'int'>\n",
      "<class 'int'>\n",
      "<class 'int'>\n",
      "<class 'int'>\n",
      "<class 'int'>\n",
      "<class 'int'>\n",
      "<class 'int'>\n",
      "<class 'int'>\n",
      "<class 'int'>\n",
      "<class 'int'>\n",
      "<class 'int'>\n",
      "<class 'int'>\n",
      "<class 'int'>\n",
      "<class 'int'>\n",
      "<class 'int'>\n",
      "<class 'int'>\n",
      "<class 'int'>\n",
      "<class 'int'>\n",
      "<class 'int'>\n",
      "<class 'int'>\n",
      "<class 'int'>\n",
      "<class 'int'>\n",
      "<class 'int'>\n",
      "<class 'int'>\n",
      "<class 'int'>\n",
      "<class 'int'>\n",
      "<class 'int'>\n",
      "<class 'int'>\n",
      "<class 'int'>\n",
      "<class 'int'>\n",
      "<class 'int'>\n"
     ]
    }
   ],
   "source": [
    "for n in range(1, 51):\n",
    "    print(type(n))"
   ]
  },
  {
   "cell_type": "code",
   "execution_count": 371,
   "id": "b09dfd29",
   "metadata": {},
   "outputs": [
    {
     "name": "stdout",
     "output_type": "stream",
     "text": [
      "Enter a number. 7\n",
      "7 x 1 = 7\n",
      "7 x 2 = 14\n",
      "7 x 3 = 21\n",
      "7 x 4 = 28\n",
      "7 x 5 = 35\n",
      "7 x 6 = 42\n",
      "7 x 7 = 49\n",
      "7 x 8 = 56\n",
      "7 x 9 = 63\n",
      "7 x 10 = 70\n"
     ]
    }
   ],
   "source": [
    "number = int(input(\"Enter a number. \"))\n",
    "\n",
    "for n in range(1, 11):\n",
    "    print(f'{number} x {n} = {n * number}')"
   ]
  },
  {
   "cell_type": "code",
   "execution_count": 369,
   "id": "9fd52eb6",
   "metadata": {},
   "outputs": [
    {
     "name": "stdout",
     "output_type": "stream",
     "text": [
      "Paycheck is $[1500]\n",
      "Paycheck is $[3750.0]\n"
     ]
    }
   ],
   "source": [
    "hours_worked = [30, 50]\n",
    "hourly_wages = 50\n",
    "weekly_wages = [h * hourly_wages for h in hours_worked]\n",
    "\n",
    "\n",
    "for h in hours_worked:\n",
    "    if h <= 40:\n",
    "        h = [h * hourly_wages] \n",
    "    else:\n",
    "        h = [h * hourly_wages * 1.5]\n",
    "    print('Paycheck is $' + str(h))"
   ]
  },
  {
   "cell_type": "code",
   "execution_count": 367,
   "id": "f9664443",
   "metadata": {},
   "outputs": [
    {
     "name": "stdout",
     "output_type": "stream",
     "text": [
      "Enter an positive number: 4\n",
      "1 is positive\n",
      "2 is positive\n",
      "3 is positive\n",
      "4 is positive\n"
     ]
    }
   ],
   "source": [
    "#d. The input function can be used to prompt for input and use that input in your python code. \n",
    "# Prompt the user to enter a positive number and write a loop that counts from 0 to that number. \n",
    "# (Hints: first make sure that the value the user entered is a valid number,\n",
    "# also note that the input function returns a string, so you'll need to convert this to a numeric type.)\n",
    "pos = input(\"Enter an positive number: \")\n",
    "pos.isdigit()\n",
    "\n",
    "for n in pos:\n",
    "    if pos.isdigit() == False:\n",
    "        pos = input('Please try again using positive numbers only, ')\n",
    "    elif pos.isdigit() == True:\n",
    "        break\n",
    "        \n",
    "pos = int(pos)\n",
    "\n",
    "\n",
    "for x in range(pos):\n",
    "    x = x+1\n",
    "    if x > 0:\n",
    "        print(str(x)+' is positive')"
   ]
  },
  {
   "cell_type": "code",
   "execution_count": 364,
   "id": "eb104958",
   "metadata": {},
   "outputs": [
    {
     "ename": "SyntaxError",
     "evalue": "invalid syntax (1188268957.py, line 6)",
     "output_type": "error",
     "traceback": [
      "\u001b[0;36m  File \u001b[0;32m\"/var/folders/tg/c6tcjwk13mj583lxrf25k3jm0000gn/T/ipykernel_44654/1188268957.py\"\u001b[0;36m, line \u001b[0;32m6\u001b[0m\n\u001b[0;31m    else odd.isdigit() == True:\u001b[0m\n\u001b[0m         ^\u001b[0m\n\u001b[0;31mSyntaxError\u001b[0m\u001b[0;31m:\u001b[0m invalid syntax\n"
     ]
    }
   ],
   "source": [
    "odd = input(\"Please enter an odd number from 1 to 50, \")\n",
    "\n",
    "for n in odd:\n",
    "    if odd.isdigit() == False:\n",
    "        odd = input('Please try again using odd numbers only, ')\n",
    "    elif odd.isdigit() == True:\n",
    "        break\n",
    "        "
   ]
  }
 ],
 "metadata": {
  "kernelspec": {
   "display_name": "Python 3 (ipykernel)",
   "language": "python",
   "name": "python3"
  },
  "language_info": {
   "codemirror_mode": {
    "name": "ipython",
    "version": 3
   },
   "file_extension": ".py",
   "mimetype": "text/x-python",
   "name": "python",
   "nbconvert_exporter": "python",
   "pygments_lexer": "ipython3",
   "version": "3.9.7"
  }
 },
 "nbformat": 4,
 "nbformat_minor": 5
}
