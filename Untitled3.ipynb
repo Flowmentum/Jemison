{
 "cells": [
  {
   "cell_type": "code",
   "execution_count": 6,
   "id": "a3f6ed68",
   "metadata": {},
   "outputs": [
    {
     "data": {
      "text/plain": [
       "'hwdy d'"
      ]
     },
     "execution_count": 6,
     "metadata": {},
     "output_type": "execute_result"
    }
   ],
   "source": [
    "def remove_vowels(string):\n",
    "    newstr = string\n",
    "    vowels = ('a', 'e', 'i', 'o', 'u')\n",
    "    for letter in string.lower():\n",
    "        if letter in vowels:\n",
    "            newstr = newstr.replace(letter,\"\")\n",
    "    return newstr\n",
    "            \n",
    "remove_vowels('howdy do')"
   ]
  },
  {
   "cell_type": "code",
   "execution_count": null,
   "id": "74bf5e75",
   "metadata": {},
   "outputs": [],
   "source": []
  },
  {
   "cell_type": "code",
   "execution_count": 10,
   "id": "071ebd1d",
   "metadata": {},
   "outputs": [
    {
     "name": "stdout",
     "output_type": "stream",
     "text": [
      "You got a B\n"
     ]
    }
   ],
   "source": [
    "# Define a function named get_letter_grade. It should accept a number and return\n",
    "# the letter grade associated with that number (A-F).\n",
    "\n",
    "def get_letter_grade(num_grade):\n",
    "    letter_grade = num_grade\n",
    "    if letter_grade >= 90:\n",
    "        print(\"You got an A\")\n",
    "    elif letter_grade >= 80:\n",
    "        print(\"You got a B\")\n",
    "    elif letter_grade >= 70:\n",
    "        print(\"You got a C\")\n",
    "    elif letter_grade >= 70:\n",
    "        print(\"You got a D\")\n",
    "    else:\n",
    "        print(\"You got a F\")\n",
    "\n",
    "get_letter_grade(88)"
   ]
  },
  {
   "cell_type": "code",
   "execution_count": 26,
   "id": "43e034bd",
   "metadata": {},
   "outputs": [
    {
     "data": {
      "text/plain": [
       "'2bring'"
      ]
     },
     "execution_count": 26,
     "metadata": {},
     "output_type": "execute_result"
    }
   ],
   "source": [
    "# Define a function named normalize_name. It should accept a string and\n",
    "# return a valid python identifier, that is:\n",
    "# anything that is not a valid python identifier should be removed\n",
    "# leading and trailing whitespace should be removed\n",
    "# everything should be lowercase\n",
    "# spaces should be replaced with underscores\n",
    "# for example:\n",
    "# Name will become name\n",
    "# First Name will become first_name\n",
    "# % Completed will become completed\n",
    "\n",
    "def normalize_name(name):\n",
    "    norm = name\n",
    "    if not norm.isidentifier():\n",
    "        norm = name[1:]\n",
    "    return norm\n",
    "\n",
    "normalize_name('22bring')"
   ]
  },
  {
   "cell_type": "code",
   "execution_count": 34,
   "id": "10005630",
   "metadata": {},
   "outputs": [
    {
     "data": {
      "text/plain": [
       "'2bring'"
      ]
     },
     "execution_count": 34,
     "metadata": {},
     "output_type": "execute_result"
    }
   ],
   "source": [
    "def normalize_name(name):\n",
    "    norm = name\n",
    "    for char in norm:\n",
    "        if norm.isidentifier():\n",
    "            print(name + ' is valid')\n",
    "        else:\n",
    "            norm = name[1:]\n",
    "    return norm\n",
    "\n",
    "normalize_name(' 2bring')"
   ]
  },
  {
   "cell_type": "code",
   "execution_count": 40,
   "id": "1ed6c500",
   "metadata": {},
   "outputs": [
    {
     "data": {
      "text/plain": [
       "' 2Bring'"
      ]
     },
     "execution_count": 40,
     "metadata": {},
     "output_type": "execute_result"
    }
   ],
   "source": [
    "def normalize_name(name):\n",
    "    norm = name\n",
    "    for char in norm:\n",
    "        if char[0] == ' ':\n",
    "            name.replace(' ', '')\n",
    "        elif char[-1] == ' ':\n",
    "            name.replace(' ', '')\n",
    "        else:\n",
    "            name.lower()\n",
    "    return norm\n",
    "\n",
    "normalize_name(' 2Bring')"
   ]
  },
  {
   "cell_type": "code",
   "execution_count": 11,
   "id": "ae6b49ee",
   "metadata": {},
   "outputs": [
    {
     "name": "stdout",
     "output_type": "stream",
     "text": [
      "True\n",
      "True\n",
      "False\n",
      "False\n"
     ]
    }
   ],
   "source": [
    "a = \"MyFolder\"\n",
    "b = \"Demo002\"\n",
    "c = \"2bring\"\n",
    "d = \"my demo\"\n",
    "\n",
    "print(a.isidentifier())\n",
    "print(b.isidentifier())\n",
    "print(c.isidentifier())\n",
    "print(d.isidentifier())"
   ]
  },
  {
   "cell_type": "code",
   "execution_count": 42,
   "id": "d89e6668",
   "metadata": {},
   "outputs": [
    {
     "name": "stdout",
     "output_type": "stream",
     "text": [
      "False\n"
     ]
    },
    {
     "data": {
      "text/plain": [
       "False"
      ]
     },
     "execution_count": 42,
     "metadata": {},
     "output_type": "execute_result"
    }
   ],
   "source": [
    "def is_vowel(char):\n",
    "    return char.lower() in 'aeiou'    \n",
    "\n",
    "print(is_vowel('aeiouuu'))\n",
    "is_vowel('aa')"
   ]
  },
  {
   "cell_type": "code",
   "execution_count": 44,
   "id": "34672a4a",
   "metadata": {},
   "outputs": [
    {
     "name": "stdout",
     "output_type": "stream",
     "text": [
      "$75.0\n"
     ]
    },
    {
     "data": {
      "text/plain": [
       "'$36.25'"
      ]
     },
     "execution_count": 44,
     "metadata": {},
     "output_type": "execute_result"
    }
   ],
   "source": [
    "def apply_discount(price, disc):\n",
    "    disc_price = price - (price * (disc))\n",
    "    return '$' + str(round(disc_price, 2))\n",
    "\n",
    "print(apply_discount(100, .25))\n",
    "apply_discount(50, .275)"
   ]
  },
  {
   "cell_type": "code",
   "execution_count": 45,
   "id": "58ce0a4f",
   "metadata": {},
   "outputs": [
    {
     "name": "stdout",
     "output_type": "stream",
     "text": [
      "10.0% tip\n"
     ]
    }
   ],
   "source": [
    "def calculate_tip(percent, total):\n",
    "    tip = (percent * total)\n",
    "    return tip\n",
    "\n",
    "calculate_tip(.5, 12)\n",
    "print(str(calculate_tip(.1, 100)) + '% tip')\n"
   ]
  },
  {
   "cell_type": "code",
   "execution_count": 49,
   "id": "f0091f98",
   "metadata": {},
   "outputs": [
    {
     "ename": "TypeError",
     "evalue": "'>=' not supported between instances of 'str' and 'int'",
     "output_type": "error",
     "traceback": [
      "\u001b[0;31m---------------------------------------------------------------------------\u001b[0m",
      "\u001b[0;31mTypeError\u001b[0m                                 Traceback (most recent call last)",
      "\u001b[0;32m/var/folders/tg/c6tcjwk13mj583lxrf25k3jm0000gn/T/ipykernel_5832/2184199261.py\u001b[0m in \u001b[0;36m<module>\u001b[0;34m\u001b[0m\n\u001b[1;32m     14\u001b[0m         \u001b[0mprint\u001b[0m\u001b[0;34m(\u001b[0m\u001b[0;34m\"Please type in a number\"\u001b[0m\u001b[0;34m)\u001b[0m\u001b[0;34m\u001b[0m\u001b[0;34m\u001b[0m\u001b[0m\n\u001b[1;32m     15\u001b[0m \u001b[0;34m\u001b[0m\u001b[0m\n\u001b[0;32m---> 16\u001b[0;31m \u001b[0mget_letter_grade\u001b[0m\u001b[0;34m(\u001b[0m\u001b[0;34m'a'\u001b[0m\u001b[0;34m)\u001b[0m\u001b[0;34m\u001b[0m\u001b[0;34m\u001b[0m\u001b[0m\n\u001b[0m",
      "\u001b[0;32m/var/folders/tg/c6tcjwk13mj583lxrf25k3jm0000gn/T/ipykernel_5832/2184199261.py\u001b[0m in \u001b[0;36mget_letter_grade\u001b[0;34m(num_grade)\u001b[0m\n\u001b[1;32m      1\u001b[0m \u001b[0;32mdef\u001b[0m \u001b[0mget_letter_grade\u001b[0m\u001b[0;34m(\u001b[0m\u001b[0mnum_grade\u001b[0m\u001b[0;34m)\u001b[0m\u001b[0;34m:\u001b[0m\u001b[0;34m\u001b[0m\u001b[0;34m\u001b[0m\u001b[0m\n\u001b[1;32m      2\u001b[0m     \u001b[0mletter_grade\u001b[0m \u001b[0;34m=\u001b[0m \u001b[0mnum_grade\u001b[0m\u001b[0;34m\u001b[0m\u001b[0;34m\u001b[0m\u001b[0m\n\u001b[0;32m----> 3\u001b[0;31m     \u001b[0;32mif\u001b[0m \u001b[0mletter_grade\u001b[0m \u001b[0;34m>=\u001b[0m \u001b[0;36m90\u001b[0m\u001b[0;34m:\u001b[0m\u001b[0;34m\u001b[0m\u001b[0;34m\u001b[0m\u001b[0m\n\u001b[0m\u001b[1;32m      4\u001b[0m         \u001b[0mprint\u001b[0m\u001b[0;34m(\u001b[0m\u001b[0;34m\"You got an A\"\u001b[0m\u001b[0;34m)\u001b[0m\u001b[0;34m\u001b[0m\u001b[0;34m\u001b[0m\u001b[0m\n\u001b[1;32m      5\u001b[0m     \u001b[0;32melif\u001b[0m \u001b[0mletter_grade\u001b[0m \u001b[0;34m>=\u001b[0m \u001b[0;36m80\u001b[0m\u001b[0;34m:\u001b[0m\u001b[0;34m\u001b[0m\u001b[0;34m\u001b[0m\u001b[0m\n",
      "\u001b[0;31mTypeError\u001b[0m: '>=' not supported between instances of 'str' and 'int'"
     ]
    }
   ],
   "source": [
    "def get_letter_grade(num_grade):\n",
    "    letter_grade = num_grade\n",
    "    if letter_grade >= 90:\n",
    "        print(\"You got an A\")\n",
    "    elif letter_grade >= 80:\n",
    "        print(\"You got a B\")\n",
    "    elif letter_grade >= 70:\n",
    "        print(\"You got a C\")\n",
    "    elif letter_grade >= 70:\n",
    "        print(\"You got a D\")\n",
    "    elif letter_grade >= 0:\n",
    "        print(\"You got a F\")\n",
    "    else:\n",
    "        print(\"Please type in a number\")\n",
    "        \n",
    "get_letter_grade('a')"
   ]
  },
  {
   "cell_type": "code",
   "execution_count": 50,
   "id": "c1a09299",
   "metadata": {},
   "outputs": [
    {
     "name": "stdout",
     "output_type": "stream",
     "text": [
      "I like apples\n"
     ]
    }
   ],
   "source": [
    "txt = \"I like bananas\"\n",
    "\n",
    "x = txt.replace(\"bananas\", \"apples\")\n",
    "\n",
    "print(x)"
   ]
  },
  {
   "cell_type": "code",
   "execution_count": 51,
   "id": "18b88dbc",
   "metadata": {},
   "outputs": [
    {
     "ename": "TypeError",
     "evalue": "list indices must be integers or slices, not tuple",
     "output_type": "error",
     "traceback": [
      "\u001b[0;31m---------------------------------------------------------------------------\u001b[0m",
      "\u001b[0;31mTypeError\u001b[0m                                 Traceback (most recent call last)",
      "\u001b[0;32m/var/folders/tg/c6tcjwk13mj583lxrf25k3jm0000gn/T/ipykernel_5832/3601918131.py\u001b[0m in \u001b[0;36m<module>\u001b[0;34m\u001b[0m\n\u001b[1;32m      7\u001b[0m     \u001b[0;32mreturn\u001b[0m \u001b[0mcommaless\u001b[0m\u001b[0;34m\u001b[0m\u001b[0;34m\u001b[0m\u001b[0m\n\u001b[1;32m      8\u001b[0m \u001b[0;34m\u001b[0m\u001b[0m\n\u001b[0;32m----> 9\u001b[0;31m \u001b[0mhandle_commas\u001b[0m\u001b[0;34m(\u001b[0m\u001b[0;34m'123,678,980'\u001b[0m\u001b[0;34m)\u001b[0m\u001b[0;34m\u001b[0m\u001b[0;34m\u001b[0m\u001b[0m\n\u001b[0m\u001b[1;32m     10\u001b[0m \u001b[0mprint\u001b[0m\u001b[0;34m(\u001b[0m\u001b[0mhandle_commas\u001b[0m\u001b[0;34m(\u001b[0m\u001b[0;34m'123,456,789'\u001b[0m\u001b[0;34m)\u001b[0m\u001b[0;34m)\u001b[0m\u001b[0;34m\u001b[0m\u001b[0;34m\u001b[0m\u001b[0m\n",
      "\u001b[0;32m/var/folders/tg/c6tcjwk13mj583lxrf25k3jm0000gn/T/ipykernel_5832/3601918131.py\u001b[0m in \u001b[0;36mhandle_commas\u001b[0;34m(*comma_number)\u001b[0m\n\u001b[1;32m      4\u001b[0m         \u001b[0;32mif\u001b[0m \u001b[0mcomma_number\u001b[0m \u001b[0;34m==\u001b[0m \u001b[0;34m\"\"\u001b[0m\u001b[0;34m:\u001b[0m\u001b[0;34m\u001b[0m\u001b[0;34m\u001b[0m\u001b[0m\n\u001b[1;32m      5\u001b[0m             \u001b[0;32mbreak\u001b[0m\u001b[0;34m\u001b[0m\u001b[0;34m\u001b[0m\u001b[0m\n\u001b[0;32m----> 6\u001b[0;31m         \u001b[0mcommaless\u001b[0m \u001b[0;34m+=\u001b[0m \u001b[0mcommaless\u001b[0m\u001b[0;34m[\u001b[0m\u001b[0mcomma_number\u001b[0m\u001b[0;34m]\u001b[0m\u001b[0;34m\u001b[0m\u001b[0;34m\u001b[0m\u001b[0m\n\u001b[0m\u001b[1;32m      7\u001b[0m     \u001b[0;32mreturn\u001b[0m \u001b[0mcommaless\u001b[0m\u001b[0;34m\u001b[0m\u001b[0;34m\u001b[0m\u001b[0m\n\u001b[1;32m      8\u001b[0m \u001b[0;34m\u001b[0m\u001b[0m\n",
      "\u001b[0;31mTypeError\u001b[0m: list indices must be integers or slices, not tuple"
     ]
    }
   ],
   "source": [
    "def handle_commas(*comma_number):\n",
    "    commaless = []\n",
    "    while True:\n",
    "        if comma_number == \"\":\n",
    "            break\n",
    "        commaless += commaless[comma_number]\n",
    "    return commaless\n",
    "    \n",
    "handle_commas('123,678,980')\n",
    "print(handle_commas('123,456,789'))"
   ]
  },
  {
   "cell_type": "code",
   "execution_count": 53,
   "id": "f143d630",
   "metadata": {},
   "outputs": [
    {
     "ename": "UnboundLocalError",
     "evalue": "local variable 'x' referenced before assignment",
     "output_type": "error",
     "traceback": [
      "\u001b[0;31m---------------------------------------------------------------------------\u001b[0m",
      "\u001b[0;31mUnboundLocalError\u001b[0m                         Traceback (most recent call last)",
      "\u001b[0;32m/var/folders/tg/c6tcjwk13mj583lxrf25k3jm0000gn/T/ipykernel_5832/2920676918.py\u001b[0m in \u001b[0;36m<module>\u001b[0;34m\u001b[0m\n\u001b[1;32m      4\u001b[0m     \u001b[0;32mreturn\u001b[0m \u001b[0mx\u001b[0m\u001b[0;34m\u001b[0m\u001b[0;34m\u001b[0m\u001b[0m\n\u001b[1;32m      5\u001b[0m \u001b[0;34m\u001b[0m\u001b[0m\n\u001b[0;32m----> 6\u001b[0;31m \u001b[0mhandle_commas\u001b[0m\u001b[0;34m(\u001b[0m\u001b[0;34m'123,678,980'\u001b[0m\u001b[0;34m)\u001b[0m\u001b[0;34m\u001b[0m\u001b[0;34m\u001b[0m\u001b[0m\n\u001b[0m\u001b[1;32m      7\u001b[0m \u001b[0mprint\u001b[0m\u001b[0;34m(\u001b[0m\u001b[0mhandle_commas\u001b[0m\u001b[0;34m(\u001b[0m\u001b[0;34m'123,456,789'\u001b[0m\u001b[0;34m)\u001b[0m\u001b[0;34m)\u001b[0m\u001b[0;34m\u001b[0m\u001b[0;34m\u001b[0m\u001b[0m\n",
      "\u001b[0;32m/var/folders/tg/c6tcjwk13mj583lxrf25k3jm0000gn/T/ipykernel_5832/2920676918.py\u001b[0m in \u001b[0;36mhandle_commas\u001b[0;34m(comma_number)\u001b[0m\n\u001b[1;32m      1\u001b[0m \u001b[0;32mdef\u001b[0m \u001b[0mhandle_commas\u001b[0m\u001b[0;34m(\u001b[0m\u001b[0mcomma_number\u001b[0m\u001b[0;34m)\u001b[0m\u001b[0;34m:\u001b[0m\u001b[0;34m\u001b[0m\u001b[0;34m\u001b[0m\u001b[0m\n\u001b[0;32m----> 2\u001b[0;31m     \u001b[0;32mif\u001b[0m \u001b[0mx\u001b[0m \u001b[0;32min\u001b[0m \u001b[0mcomma_number\u001b[0m \u001b[0;34m==\u001b[0m \u001b[0;34m','\u001b[0m\u001b[0;34m:\u001b[0m\u001b[0;34m\u001b[0m\u001b[0;34m\u001b[0m\u001b[0m\n\u001b[0m\u001b[1;32m      3\u001b[0m         \u001b[0mx\u001b[0m \u001b[0;34m=\u001b[0m \u001b[0;34m''\u001b[0m\u001b[0;34m\u001b[0m\u001b[0;34m\u001b[0m\u001b[0m\n\u001b[1;32m      4\u001b[0m     \u001b[0;32mreturn\u001b[0m \u001b[0mx\u001b[0m\u001b[0;34m\u001b[0m\u001b[0;34m\u001b[0m\u001b[0m\n\u001b[1;32m      5\u001b[0m \u001b[0;34m\u001b[0m\u001b[0m\n",
      "\u001b[0;31mUnboundLocalError\u001b[0m: local variable 'x' referenced before assignment"
     ]
    }
   ],
   "source": [
    "def handle_commas(comma_number):\n",
    "    if x in comma_number == ',':\n",
    "        x = ''\n",
    "    return x\n",
    "    \n",
    "handle_commas('123,678,980')\n",
    "print(handle_commas('123,456,789'))"
   ]
  }
 ],
 "metadata": {
  "kernelspec": {
   "display_name": "Python 3 (ipykernel)",
   "language": "python",
   "name": "python3"
  },
  "language_info": {
   "codemirror_mode": {
    "name": "ipython",
    "version": 3
   },
   "file_extension": ".py",
   "mimetype": "text/x-python",
   "name": "python",
   "nbconvert_exporter": "python",
   "pygments_lexer": "ipython3",
   "version": "3.9.7"
  }
 },
 "nbformat": 4,
 "nbformat_minor": 5
}
